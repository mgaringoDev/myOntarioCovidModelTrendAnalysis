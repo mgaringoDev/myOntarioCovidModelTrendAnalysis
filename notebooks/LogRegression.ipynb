{
 "cells": [
  {
   "cell_type": "markdown",
   "metadata": {},
   "source": [
    "# Import Path"
   ]
  },
  {
   "cell_type": "code",
   "execution_count": 1,
   "metadata": {},
   "outputs": [
    {
     "name": "stdout",
     "output_type": "stream",
     "text": [
      "Adding C:\\Cerebral\\_MarioSandBox\\Python\\projectPage_myOntarioCovidModelTrendAnalysis\\git_projectCodes\\myOntarioCovidModelTrendAnalysis path to system\n"
     ]
    }
   ],
   "source": [
    "import os\n",
    "import sys\n",
    "\n",
    "p = os.path.abspath('../')\n",
    "if p not in sys.path:\n",
    "    print('Adding {} path to system'.format(p))\n",
    "    sys.path.append(p)"
   ]
  },
  {
   "cell_type": "markdown",
   "metadata": {},
   "source": [
    "The [Epidemiological Data from the COVID-19 Outbreak in Canada](https://github.com/ishaberry/Covid19Canada) located in github.\n",
    "\n"
   ]
  },
  {
   "cell_type": "code",
   "execution_count": 2,
   "metadata": {},
   "outputs": [],
   "source": [
    "from myFunctions.covid import covid as cvd"
   ]
  },
  {
   "cell_type": "code",
   "execution_count": 3,
   "metadata": {},
   "outputs": [],
   "source": [
    "import pandas as pd\n",
    "import numpy as np"
   ]
  },
  {
   "cell_type": "markdown",
   "metadata": {},
   "source": [
    "# Get Data"
   ]
  },
  {
   "cell_type": "code",
   "execution_count": 4,
   "metadata": {},
   "outputs": [
    {
     "name": "stdout",
     "output_type": "stream",
     "text": [
      "Getting COVID data\n",
      "cached\n"
     ]
    }
   ],
   "source": [
    "covidObject = cvd(cached=True)"
   ]
  },
  {
   "cell_type": "code",
   "execution_count": 21,
   "metadata": {},
   "outputs": [],
   "source": [
    "covidObject.getProcessedData('BC')"
   ]
  },
  {
   "cell_type": "code",
   "execution_count": 22,
   "metadata": {},
   "outputs": [],
   "source": [
    "# convert dictionary into dataframe\n",
    "dfData = pd.DataFrame.from_dict(covidObject.dataProcess)\n",
    "# convert date col to datetime pandas series\n",
    "dfData['date'] = pd.to_datetime(dfData['date'])\n",
    "# convert index to dates\n",
    "dfData = dfData.set_index('date')"
   ]
  },
  {
   "cell_type": "code",
   "execution_count": 23,
   "metadata": {},
   "outputs": [
    {
     "data": {
      "text/html": [
       "<div>\n",
       "<style scoped>\n",
       "    .dataframe tbody tr th:only-of-type {\n",
       "        vertical-align: middle;\n",
       "    }\n",
       "\n",
       "    .dataframe tbody tr th {\n",
       "        vertical-align: top;\n",
       "    }\n",
       "\n",
       "    .dataframe thead th {\n",
       "        text-align: right;\n",
       "    }\n",
       "</style>\n",
       "<table border=\"1\" class=\"dataframe\">\n",
       "  <thead>\n",
       "    <tr style=\"text-align: right;\">\n",
       "      <th></th>\n",
       "      <th>contracted</th>\n",
       "      <th>mortality</th>\n",
       "      <th>recovered</th>\n",
       "      <th>testing</th>\n",
       "    </tr>\n",
       "    <tr>\n",
       "      <th>date</th>\n",
       "      <th></th>\n",
       "      <th></th>\n",
       "      <th></th>\n",
       "      <th></th>\n",
       "    </tr>\n",
       "  </thead>\n",
       "  <tbody>\n",
       "    <tr>\n",
       "      <th>2020-04-19</th>\n",
       "      <td>1647</td>\n",
       "      <td>81</td>\n",
       "      <td>987</td>\n",
       "      <td>60668</td>\n",
       "    </tr>\n",
       "    <tr>\n",
       "      <th>2020-04-20</th>\n",
       "      <td>1699</td>\n",
       "      <td>86</td>\n",
       "      <td>1039</td>\n",
       "      <td>64375</td>\n",
       "    </tr>\n",
       "    <tr>\n",
       "      <th>2020-04-21</th>\n",
       "      <td>1724</td>\n",
       "      <td>87</td>\n",
       "      <td>1041</td>\n",
       "      <td>65545</td>\n",
       "    </tr>\n",
       "    <tr>\n",
       "      <th>2020-04-22</th>\n",
       "      <td>1795</td>\n",
       "      <td>90</td>\n",
       "      <td>1079</td>\n",
       "      <td>66977</td>\n",
       "    </tr>\n",
       "    <tr>\n",
       "      <th>2020-04-23</th>\n",
       "      <td>1824</td>\n",
       "      <td>94</td>\n",
       "      <td>1092</td>\n",
       "      <td>68553</td>\n",
       "    </tr>\n",
       "  </tbody>\n",
       "</table>\n",
       "</div>"
      ],
      "text/plain": [
       "            contracted  mortality  recovered  testing\n",
       "date                                                 \n",
       "2020-04-19        1647         81        987    60668\n",
       "2020-04-20        1699         86       1039    64375\n",
       "2020-04-21        1724         87       1041    65545\n",
       "2020-04-22        1795         90       1079    66977\n",
       "2020-04-23        1824         94       1092    68553"
      ]
     },
     "execution_count": 23,
     "metadata": {},
     "output_type": "execute_result"
    }
   ],
   "source": [
    "dfData.tail()"
   ]
  },
  {
   "cell_type": "code",
   "execution_count": 24,
   "metadata": {},
   "outputs": [
    {
     "data": {
      "text/plain": [
       "<matplotlib.axes._subplots.AxesSubplot at 0xa60f208>"
      ]
     },
     "execution_count": 24,
     "metadata": {},
     "output_type": "execute_result"
    },
    {
     "data": {
      "image/png": "[encoded data removed]",
      "text/plain": [
       "<Figure size 432x288 with 1 Axes>"
      ]
     },
     "metadata": {
      "needs_background": "light"
     },
     "output_type": "display_data"
    }
   ],
   "source": [
    "dfData.plot()"
   ]
  },
  {
   "cell_type": "markdown",
   "metadata": {},
   "source": [
    "# Modeling Linear Regression"
   ]
  },
  {
   "cell_type": "code",
   "execution_count": 25,
   "metadata": {},
   "outputs": [],
   "source": [
    "from sklearn.linear_model import LinearRegression\n",
    "import matplotlib.pyplot as plt\n",
    "import scipy.optimize as opt\n",
    "from sklearn.preprocessing import MinMaxScaler"
   ]
  },
  {
   "cell_type": "markdown",
   "metadata": {},
   "source": [
    "Recall that the logistic regression is in the form:\n",
    "\n",
    "$$ p = \\frac{1}{1+e^{-(b_o+b_1x)}}$$\n",
    "\n",
    "To make coding simpler to follow let us make the parameters or weights be equivalent to the following equation:\n",
    "$$ p = \\frac{a}{1+e^{-(c+dx)}}$$\n",
    "which if we remove a consant c we get the equation:\n",
    "$$ p = \\frac{a}{1+e^{-c(x-d)}}$$\n",
    "\n",
    "Notice that d is not cd here because it is just a constant and if we multiply, divide, add or subtract a constant it is still a constant in the end."
   ]
  },
  {
   "cell_type": "code",
   "execution_count": 26,
   "metadata": {},
   "outputs": [],
   "source": [
    "def logistic(x, a, c, d):\n",
    "    \"\"\"Fit a logistic function.\"\"\"\n",
    "    return a / (1. + np.exp(-c * (x - d)))"
   ]
  },
  {
   "cell_type": "code",
   "execution_count": 27,
   "metadata": {},
   "outputs": [],
   "source": [
    "def fit_predict(x, y, f, x_pred=None):\n",
    "    \"\"\"Fit a function and predict on some input\"\"\"\n",
    "    popt, pcov = opt.curve_fit(f, x, y, maxfev=100000)\n",
    "    if x_pred is None:\n",
    "        x_pred = x\n",
    "    return f(x_pred, *popt)"
   ]
  },
  {
   "cell_type": "markdown",
   "metadata": {},
   "source": [
    "### Data"
   ]
  },
  {
   "cell_type": "code",
   "execution_count": 28,
   "metadata": {},
   "outputs": [],
   "source": [
    "y = dfData['contracted'].to_numpy()\n",
    "x = np.arange(len(y))"
   ]
  },
  {
   "cell_type": "markdown",
   "metadata": {},
   "source": [
    "### Massaging the independent variable"
   ]
  },
  {
   "cell_type": "code",
   "execution_count": 29,
   "metadata": {},
   "outputs": [
    {
     "data": {
      "text/plain": [
       "array([ 0,  1,  2,  3,  4,  5,  6,  7,  8,  9, 10, 11, 12, 13, 14, 15, 16,\n",
       "       17, 18, 19, 20, 21, 22, 23, 24, 25, 26, 27, 28, 29, 30, 31, 32, 33,\n",
       "       34, 35, 36, 37, 38, 39, 40, 41, 42, 43, 44, 45, 46, 47, 48, 49, 50,\n",
       "       51, 52, 53, 54, 55, 56, 57, 58, 59, 60, 61, 62, 63, 64, 65, 66, 67,\n",
       "       68, 69, 70, 71, 72, 73, 74])"
      ]
     },
     "execution_count": 29,
     "metadata": {},
     "output_type": "execute_result"
    }
   ],
   "source": [
    "x"
   ]
  },
  {
   "cell_type": "code",
   "execution_count": 30,
   "metadata": {},
   "outputs": [],
   "source": [
    "lenPred = 30\n",
    "xFuture = np.arange(lenPred) + len(x)"
   ]
  },
  {
   "cell_type": "markdown",
   "metadata": {},
   "source": [
    "### Massaging the dependent variable"
   ]
  },
  {
   "cell_type": "code",
   "execution_count": 31,
   "metadata": {},
   "outputs": [],
   "source": [
    "m = MinMaxScaler()\n",
    "yTrans = m.fit_transform(y.reshape(-1, 1) )\n",
    "yTrans = yTrans.reshape(1, -1)[0]"
   ]
  },
  {
   "cell_type": "code",
   "execution_count": 32,
   "metadata": {},
   "outputs": [],
   "source": [
    "yPredLogReg = fit_predict(\n",
    "                x, yTrans, logistic, x_pred=xFuture).reshape(-1, 1)"
   ]
  },
  {
   "cell_type": "code",
   "execution_count": 33,
   "metadata": {},
   "outputs": [],
   "source": [
    "yPredLogReg = m.inverse_transform(yPredLogReg).reshape(1, -1)[0]"
   ]
  },
  {
   "cell_type": "code",
   "execution_count": 34,
   "metadata": {},
   "outputs": [
    {
     "data": {
      "image/png": "[encoded data removed]",
      "text/plain": [
       "<Figure size 432x288 with 1 Axes>"
      ]
     },
     "metadata": {
      "needs_background": "light"
     },
     "output_type": "display_data"
    }
   ],
   "source": [
    "### Plot\n",
    "plt.scatter(x, y)\n",
    "#plt.plot(x, Y_pred_weighted,label='Weighted')\n",
    "plt.plot(xFuture, yPredLogReg,'r',label='Prediction')\n",
    "plt.xlabel('Days since record')\n",
    "plt.ylabel('Cases')\n",
    "plt.legend()\n",
    "\n",
    "plt.show()"
   ]
  },
  {
   "cell_type": "code",
   "execution_count": 35,
   "metadata": {},
   "outputs": [
    {
     "name": "stdout",
     "output_type": "stream",
     "text": [
      "Day from now=75 CumSum=1675.038145904232 Delta=1675.038145904232\n",
      "Day from now=76 CumSum=1679.3843585161276 Delta=4.34621261189568\n",
      "Day from now=77 CumSum=1683.128680260439 Delta=3.744321744311492\n",
      "Day from now=78 CumSum=1686.3522773523052 Delta=3.223597091866168\n",
      "Day from now=79 CumSum=1689.1259468556661 Delta=2.7736695033609067\n",
      "Day from now=80 CumSum=1691.5112875685045 Delta=2.3853407128383424\n",
      "Day from now=81 CumSum=1693.5617812357075 Delta=2.050493667203\n",
      "Day from now=82 CumSum=1695.323777931958 Delta=1.761996696250435\n",
      "Day from now=83 CumSum=1696.8373848058582 Delta=1.513606873900244\n",
      "Day from now=84 CumSum=1698.137260972066 Delta=1.2998761662079232\n",
      "Day from now=85 CumSum=1699.253323625328 Delta=1.1160626532619062\n",
      "Day from now=86 CumSum=1700.2113717817954 Delta=0.9580481564673846\n",
      "Day from now=87 CumSum=1701.03363470297 Delta=0.8222629211745698\n",
      "Day from now=88 CumSum=1701.7392522346054 Delta=0.7056175316354256\n",
      "Day from now=89 CumSum=1702.3446941529298 Delta=0.605441918324459\n",
      "Day from now=90 CumSum=1702.8641252682976 Delta=0.5194311153677518\n",
      "Day from now=91 CumSum=1703.3097225744862 Delta=0.4455973061885743\n",
      "Day from now=92 CumSum=1703.691950208835 Delta=0.3822276343487374\n",
      "Day from now=93 CumSum=1704.0197974445402 Delta=0.3278472357053488\n",
      "Day from now=94 CumSum=1704.3009843986624 Delta=0.28118695412217676\n",
      "Day from now=95 CumSum=1704.5421396249526 Delta=0.24115522629017505\n",
      "Day from now=96 CumSum=1704.7489532797829 Delta=0.20681365483028458\n",
      "Day from now=97 CumSum=1704.9263091076473 Delta=0.17735582786440318\n",
      "Day from now=98 CumSum=1705.078398091946 Delta=0.15208898429864348\n",
      "Day from now=99 CumSum=1705.2088162569157 Delta=0.13041816496979663\n",
      "Day from now=100 CumSum=1705.3206487859854 Delta=0.11183252906971575\n",
      "Day from now=101 CumSum=1705.4165423380725 Delta=0.09589355208709094\n",
      "Day from now=102 CumSum=1705.4987671934668 Delta=0.08222485539431545\n",
      "Day from now=103 CumSum=1705.5692706418536 Delta=0.07050344838671663\n",
      "Day from now=104 CumSum=1705.629722833595 Delta=0.060452191741433126\n"
     ]
    }
   ],
   "source": [
    "cur = 0\n",
    "prev = 0\n",
    "delta = 0\n",
    "\n",
    "for xVal,yVal in zip(xFuture,yPredLogReg):\n",
    "    prev = cur\n",
    "    cur = yVal\n",
    "    print('Day from now={} CumSum={} Delta={}'.format(xVal,\n",
    "                                                     yVal,\n",
    "                                                     np.abs(cur-prev)))\n",
    "    \n",
    "    "
   ]
  },
  {
   "cell_type": "code",
   "execution_count": null,
   "metadata": {},
   "outputs": [],
   "source": []
  }
 ],
 "metadata": {
  "kernelspec": {
   "display_name": "mlPlaygroundPy36",
   "language": "python",
   "name": "mlplaygroundpy36"
  },
  "language_info": {
   "codemirror_mode": {
    "name": "ipython",
    "version": 3
   },
   "file_extension": ".py",
   "mimetype": "text/x-python",
   "name": "python",
   "nbconvert_exporter": "python",
   "pygments_lexer": "ipython3",
   "version": "3.6.6"
  }
 },
 "nbformat": 4,
 "nbformat_minor": 4
}
