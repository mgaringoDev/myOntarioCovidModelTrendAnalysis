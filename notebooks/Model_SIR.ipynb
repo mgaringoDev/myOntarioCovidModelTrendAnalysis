{
 "cells": [
  {
   "cell_type": "markdown",
   "metadata": {},
   "source": [
    "# Import Path"
   ]
  },
  {
   "cell_type": "code",
   "execution_count": 1,
   "metadata": {},
   "outputs": [
    {
     "name": "stdout",
     "output_type": "stream",
     "text": [
      "Adding C:\\Cerebral\\_MarioSandBox\\Python\\projectPage_myOntarioCovidModelTrendAnalysis\\git_projectCodes\\myOntarioCovidModelTrendAnalysis path to system\n"
     ]
    }
   ],
   "source": [
    "import os\n",
    "import sys\n",
    "\n",
    "p = os.path.abspath('../')\n",
    "if p not in sys.path:\n",
    "    print('Adding {} path to system'.format(p))\n",
    "    sys.path.append(p)"
   ]
  },
  {
   "cell_type": "markdown",
   "metadata": {},
   "source": [
    "The [Epidemiological Data from the COVID-19 Outbreak in Canada](https://github.com/ishaberry/Covid19Canada) located in github.\n",
    "\n"
   ]
  },
  {
   "cell_type": "code",
   "execution_count": 2,
   "metadata": {},
   "outputs": [],
   "source": [
    "from myFunctions.covid import covid as cvd\n",
    "import myFunctions.myVis as myVis"
   ]
  },
  {
   "cell_type": "code",
   "execution_count": 3,
   "metadata": {},
   "outputs": [],
   "source": [
    "import pandas as pd\n",
    "import numpy as np\n",
    "from scipy.integrate import solve_ivp\n",
    "import optuna\n",
    "optuna.logging.disable_default_handler()"
   ]
  },
  {
   "cell_type": "code",
   "execution_count": 4,
   "metadata": {},
   "outputs": [],
   "source": [
    "import matplotlib.pyplot as plt\n",
    "from matplotlib.ticker import ScalarFormatter"
   ]
  },
  {
   "cell_type": "markdown",
   "metadata": {},
   "source": [
    "# Get Data"
   ]
  },
  {
   "cell_type": "markdown",
   "metadata": {},
   "source": [
    "## Population Data"
   ]
  },
  {
   "cell_type": "code",
   "execution_count": 5,
   "metadata": {},
   "outputs": [
    {
     "data": {
      "text/html": [
       "<div>\n",
       "<style scoped>\n",
       "    .dataframe tbody tr th:only-of-type {\n",
       "        vertical-align: middle;\n",
       "    }\n",
       "\n",
       "    .dataframe tbody tr th {\n",
       "        vertical-align: top;\n",
       "    }\n",
       "\n",
       "    .dataframe thead th {\n",
       "        text-align: right;\n",
       "    }\n",
       "</style>\n",
       "<table border=\"1\" class=\"dataframe\">\n",
       "  <thead>\n",
       "    <tr style=\"text-align: right;\">\n",
       "      <th></th>\n",
       "      <th>population</th>\n",
       "    </tr>\n",
       "    <tr>\n",
       "      <th>province</th>\n",
       "      <th></th>\n",
       "    </tr>\n",
       "  </thead>\n",
       "  <tbody>\n",
       "    <tr>\n",
       "      <th>Ontario</th>\n",
       "      <td>14446515</td>\n",
       "    </tr>\n",
       "    <tr>\n",
       "      <th>Quebec</th>\n",
       "      <td>8433301</td>\n",
       "    </tr>\n",
       "    <tr>\n",
       "      <th>British Columbia</th>\n",
       "      <td>5020302</td>\n",
       "    </tr>\n",
       "    <tr>\n",
       "      <th>Alberta</th>\n",
       "      <td>4345737</td>\n",
       "    </tr>\n",
       "    <tr>\n",
       "      <th>Manitoba</th>\n",
       "      <td>1360396</td>\n",
       "    </tr>\n",
       "  </tbody>\n",
       "</table>\n",
       "</div>"
      ],
      "text/plain": [
       "                  population\n",
       "province                    \n",
       "Ontario             14446515\n",
       "Quebec               8433301\n",
       "British Columbia     5020302\n",
       "Alberta              4345737\n",
       "Manitoba             1360396"
      ]
     },
     "execution_count": 5,
     "metadata": {},
     "output_type": "execute_result"
    }
   ],
   "source": [
    "provinceDataPopFile = '\\data\\provincePop.csv'\n",
    "popData = pd.read_csv(p + provinceDataPopFile)\n",
    "popData = popData.set_index('province')\n",
    "popData.head()"
   ]
  },
  {
   "cell_type": "markdown",
   "metadata": {},
   "source": [
    "## COVID Data"
   ]
  },
  {
   "cell_type": "code",
   "execution_count": 6,
   "metadata": {},
   "outputs": [
    {
     "name": "stdout",
     "output_type": "stream",
     "text": [
      "Getting COVID data\n",
      "cached\n"
     ]
    }
   ],
   "source": [
    "covidObject = cvd(cached=True)"
   ]
  },
  {
   "cell_type": "code",
   "execution_count": 7,
   "metadata": {},
   "outputs": [],
   "source": [
    "provOfInterest = 'Ontario'\n",
    "covidObject.getProcessedData(provOfInterest)"
   ]
  },
  {
   "cell_type": "code",
   "execution_count": 8,
   "metadata": {},
   "outputs": [],
   "source": [
    "# convert dictionary into dataframe\n",
    "dfData = pd.DataFrame.from_dict(covidObject.dataProcess)\n",
    "# convert date col to datetime pandas series\n",
    "dfData.set_index('date')\n",
    "dfData['date'] = pd.to_datetime(dfData['date'])\n",
    "# convert index to dates\n",
    "dfData = dfData.set_index('date')"
   ]
  },
  {
   "cell_type": "code",
   "execution_count": 9,
   "metadata": {},
   "outputs": [
    {
     "data": {
      "text/plain": [
       "<matplotlib.axes._subplots.AxesSubplot at 0x10b68668>"
      ]
     },
     "execution_count": 9,
     "metadata": {},
     "output_type": "execute_result"
    },
    {
     "data": {
      "image/png": "[encoded data removed]",
      "text/plain": [
       "<Figure size 432x288 with 1 Axes>"
      ]
     },
     "metadata": {
      "needs_background": "light"
     },
     "output_type": "display_data"
    }
   ],
   "source": [
    "dfData.plot()"
   ]
  },
  {
   "cell_type": "code",
   "execution_count": 10,
   "metadata": {},
   "outputs": [
    {
     "data": {
      "text/html": [
       "<div>\n",
       "<style scoped>\n",
       "    .dataframe tbody tr th:only-of-type {\n",
       "        vertical-align: middle;\n",
       "    }\n",
       "\n",
       "    .dataframe tbody tr th {\n",
       "        vertical-align: top;\n",
       "    }\n",
       "\n",
       "    .dataframe thead th {\n",
       "        text-align: right;\n",
       "    }\n",
       "</style>\n",
       "<table border=\"1\" class=\"dataframe\">\n",
       "  <thead>\n",
       "    <tr style=\"text-align: right;\">\n",
       "      <th></th>\n",
       "      <th>contracted</th>\n",
       "      <th>mortality</th>\n",
       "      <th>recovered</th>\n",
       "      <th>testing</th>\n",
       "    </tr>\n",
       "    <tr>\n",
       "      <th>date</th>\n",
       "      <th></th>\n",
       "      <th></th>\n",
       "      <th></th>\n",
       "      <th></th>\n",
       "    </tr>\n",
       "  </thead>\n",
       "  <tbody>\n",
       "    <tr>\n",
       "      <th>2020-01-25</th>\n",
       "      <td>1</td>\n",
       "      <td>0</td>\n",
       "      <td>0</td>\n",
       "      <td>0</td>\n",
       "    </tr>\n",
       "    <tr>\n",
       "      <th>2020-01-27</th>\n",
       "      <td>2</td>\n",
       "      <td>0</td>\n",
       "      <td>0</td>\n",
       "      <td>0</td>\n",
       "    </tr>\n",
       "    <tr>\n",
       "      <th>2020-01-31</th>\n",
       "      <td>3</td>\n",
       "      <td>0</td>\n",
       "      <td>0</td>\n",
       "      <td>0</td>\n",
       "    </tr>\n",
       "    <tr>\n",
       "      <th>2020-02-12</th>\n",
       "      <td>3</td>\n",
       "      <td>0</td>\n",
       "      <td>1</td>\n",
       "      <td>0</td>\n",
       "    </tr>\n",
       "    <tr>\n",
       "      <th>2020-02-13</th>\n",
       "      <td>3</td>\n",
       "      <td>0</td>\n",
       "      <td>1</td>\n",
       "      <td>0</td>\n",
       "    </tr>\n",
       "  </tbody>\n",
       "</table>\n",
       "</div>"
      ],
      "text/plain": [
       "            contracted  mortality  recovered  testing\n",
       "date                                                 \n",
       "2020-01-25           1          0          0        0\n",
       "2020-01-27           2          0          0        0\n",
       "2020-01-31           3          0          0        0\n",
       "2020-02-12           3          0          1        0\n",
       "2020-02-13           3          0          1        0"
      ]
     },
     "execution_count": 10,
     "metadata": {},
     "output_type": "execute_result"
    }
   ],
   "source": [
    "dfData.head()"
   ]
  },
  {
   "cell_type": "code",
   "execution_count": 11,
   "metadata": {},
   "outputs": [
    {
     "data": {
      "text/html": [
       "<div>\n",
       "<style scoped>\n",
       "    .dataframe tbody tr th:only-of-type {\n",
       "        vertical-align: middle;\n",
       "    }\n",
       "\n",
       "    .dataframe tbody tr th {\n",
       "        vertical-align: top;\n",
       "    }\n",
       "\n",
       "    .dataframe thead th {\n",
       "        text-align: right;\n",
       "    }\n",
       "</style>\n",
       "<table border=\"1\" class=\"dataframe\">\n",
       "  <thead>\n",
       "    <tr style=\"text-align: right;\">\n",
       "      <th></th>\n",
       "      <th>contracted</th>\n",
       "      <th>mortality</th>\n",
       "      <th>recovered</th>\n",
       "      <th>testing</th>\n",
       "    </tr>\n",
       "    <tr>\n",
       "      <th>date</th>\n",
       "      <th></th>\n",
       "      <th></th>\n",
       "      <th></th>\n",
       "      <th></th>\n",
       "    </tr>\n",
       "  </thead>\n",
       "  <tbody>\n",
       "    <tr>\n",
       "      <th>2020-04-19</th>\n",
       "      <td>11539</td>\n",
       "      <td>602</td>\n",
       "      <td>5209</td>\n",
       "      <td>156097</td>\n",
       "    </tr>\n",
       "    <tr>\n",
       "      <th>2020-04-20</th>\n",
       "      <td>12214</td>\n",
       "      <td>651</td>\n",
       "      <td>5515</td>\n",
       "      <td>164840</td>\n",
       "    </tr>\n",
       "    <tr>\n",
       "      <th>2020-04-21</th>\n",
       "      <td>12706</td>\n",
       "      <td>697</td>\n",
       "      <td>5806</td>\n",
       "      <td>174170</td>\n",
       "    </tr>\n",
       "    <tr>\n",
       "      <th>2020-04-22</th>\n",
       "      <td>13418</td>\n",
       "      <td>757</td>\n",
       "      <td>6221</td>\n",
       "      <td>184531</td>\n",
       "    </tr>\n",
       "    <tr>\n",
       "      <th>2020-04-23</th>\n",
       "      <td>13996</td>\n",
       "      <td>798</td>\n",
       "      <td>6680</td>\n",
       "      <td>194745</td>\n",
       "    </tr>\n",
       "  </tbody>\n",
       "</table>\n",
       "</div>"
      ],
      "text/plain": [
       "            contracted  mortality  recovered  testing\n",
       "date                                                 \n",
       "2020-04-19       11539        602       5209   156097\n",
       "2020-04-20       12214        651       5515   164840\n",
       "2020-04-21       12706        697       5806   174170\n",
       "2020-04-22       13418        757       6221   184531\n",
       "2020-04-23       13996        798       6680   194745"
      ]
     },
     "execution_count": 11,
     "metadata": {},
     "output_type": "execute_result"
    }
   ],
   "source": [
    "dfData.tail()"
   ]
  },
  {
   "cell_type": "markdown",
   "metadata": {},
   "source": [
    "# SIR Model"
   ]
  },
  {
   "cell_type": "markdown",
   "metadata": {},
   "source": [
    "### What is SIR model?\n",
    "SIR model is a simple mathematical model to understand outbreak of infectious diseases.  \n",
    "[The SIR epidemic model - Learning Scientific Programming with Python](https://scipython.com/book/chapter-8-scipy/additional-examples/the-sir-epidemic-model/)\n",
    "\n",
    " * S: Susceptible (=All - Confirmed)\n",
    " * I: Infected (=Confirmed - Recovered - Deaths)\n",
    " * R: Recovered or fatal (=Recovered + Deaths)\n",
    " \n",
    "**Note: THE FOLLOWING IMPLEMENTATION IS NOT THE GENERAL MODEL!**\n",
    "Though R in SIR model is \"Recovered and have immunity\", the definition of **R here is Recovered or fatal**. This is because mortality rate cannot be ignored in the real COVID-19 data.\n",
    "\n",
    "Model:  \n",
    "$$S + I \\overset{\\beta}{\\longrightarrow} 2I  $$\n",
    "$$I \\overset{\\gamma}{\\longrightarrow} R$$\n",
    "\n",
    "$\\beta$: Transmission/infection rate [1/min]  \n",
    "$\\gamma$: Recovery**(+Mortality)** rate [1/min]  \n",
    "\n",
    "Ordinary Differential Equation (ODE):   \n",
    "$\\frac{\\mathrm{d}S}{\\mathrm{d}T}= - N^{-1}\\beta S I$  \n",
    "$\\frac{\\mathrm{d}I}{\\mathrm{d}T}= N^{-1}\\beta S I - \\gamma I$  \n",
    "$\\frac{\\mathrm{d}R}{\\mathrm{d}T}= \\gamma I$  \n",
    "\n",
    "Where $N=S+I+R$ is the total population, $T$ is the elapsed time from the start date."
   ]
  },
  {
   "cell_type": "markdown",
   "metadata": {
    "_cell_guid": "58bc8d44-4df3-49fb-85c0-d01a804accc1",
    "_uuid": "769f133b-0a3a-4779-a15b-f199a2a3a411"
   },
   "source": [
    "### Non-dimensional SIR model\n",
    "To simplify the model, we will remove the units of the variables from ODE.\n",
    "\n",
    "Set \n",
    "$$(S, I, R) = N \\times (x, y, z)$$ \n",
    "and \n",
    "$$(T, \\beta, \\gamma) = (\\tau t, \\tau^{-1} \\rho, \\tau^{-1} \\sigma)$$\n",
    "\n",
    "\n",
    "This results in the ODE: \n",
    "\n",
    "| $\\frac{\\mathrm{d}x}{\\mathrm{d}t}= - \\rho x y$          | $\\frac{\\mathrm{d}S}{\\mathrm{d}t}= - \\beta S I $         |\n",
    "|--------------------------------------------------------|---------------------------------------------------------|\n",
    "| $\\frac{\\mathrm{d}y}{\\mathrm{d}t}= \\rho x y - \\sigma y$ | $\\frac{\\mathrm{d}I}{\\mathrm{d}t}= \\beta S I - \\gamma I$ |\n",
    "| $\\frac{\\mathrm{d}z}{\\mathrm{d}t}= \\sigma y$            | $\\frac{\\mathrm{d}R}{\\mathrm{d}t}= \\gamma I$             |\n",
    "\n",
    "Where $N$ is the total population and $\\tau$ is a coefficient ([min], is an integer to simplify).  \n",
    "\n",
    "The range of variables and parameters:  \n",
    "$0 < (x, y, z, \\rho, \\sigma) < 1$  \n",
    "$1\\leq \\tau \\leq 1440$  \n",
    "\n",
    "$\\tau$ here is time in minutes and there are 1440 min in each day.\n",
    "\n",
    "Basic reproduction number, Non-dimentional parameter, is defined as  \n",
    "$$R_0 = \\frac{\\rho}{\\sigma} = \\frac{\\beta}{\\gamma}$$\n",
    "\n",
    "Estimated Mean Values of $R_0$:  \n",
    "$R_0$ means \"the average number of secondary infections caused by an infected host\" ([Infection Modeling — Part 1](https://towardsdatascience.com/infection-modeling-part-1-87e74645568a)).  \n",
    "(Secondary data: [Van den Driessche, P., & Watmough, J. (2002).](https://www.ncbi.nlm.nih.gov/pmc/articles/PMC6002118))  \n",
    "2.06: Zika in South America, 2015-2016  \n",
    "1.51: Ebola in Guinea, 2014  \n",
    "1.33: H1N1 influenza in South Africa, 2009  \n",
    "3.5 : SARS in 2002-2003  \n",
    "1.68: H2N2 influenza in US, 1957  \n",
    "3.8 : Fall wave of 1918 Spanish influenza in Genova  \n",
    "1.5 : Spring wave of 1918 Spanish influenza in Genova  \n",
    "\n",
    "When $x=\\frac{1}{R_0}$, $\\frac{\\mathrm{d}y}{\\mathrm{d}t}=0$. This means that the max value of confirmed ($=I+R$) is $1-\\frac{1}{R_0}$."
   ]
  },
  {
   "cell_type": "code",
   "execution_count": 12,
   "metadata": {},
   "outputs": [],
   "source": [
    "def create_target_df(ncov_df, total_population,first_date='2020-01-25'):\n",
    "    \"\"\"\n",
    "    Select the records of the places, calculate the number of susceptible people,\n",
    "     and calculate the elapsed time [day] from the start date of the target dataframe.\n",
    "    @ncov_df <pd.DataFrame>: the clean data\n",
    "    @total_population <int>: total population in the places\n",
    "    column names in @ncov_df:\n",
    "        @confirmed <str>: column name of the number of confirmed cases\n",
    "        @recovered <str>: column name of the number of recovered cases\n",
    "        @fatal <str>: column name of the number of fatal cases\n",
    "    @kwargs: keword arguments of select_area()\n",
    "    @return <tuple(2 objects)>:\n",
    "        - 1. first_date <pd.Timestamp>: the first date of the selected records\n",
    "        - 2. target_df <pd.DataFrame>:\n",
    "            - column T: elapsed time [min] from the start date of the dataset\n",
    "            - column Susceptible: the number of patients who are in the palces but not infected/recovered/died\n",
    "            - column Infected: the number of infected cases\n",
    "            - column Recovered: the number of recovered cases\n",
    "            - column Deaths: the number of death cases\n",
    "    \"\"\"\n",
    "    # Select the target records    \n",
    "    #first_date = ncov_df.index[0]\n",
    "    \n",
    "    ncov_df[\"Susceptible\"] = total_population - ncov_df['contracted']\n",
    "    ncov_df[\"Infected\"] = ncov_df['contracted'] - ncov_df['recovered'] - ncov_df['mortality']\n",
    "    ncov_df[\"Recovered\"] = ncov_df['recovered']\n",
    "    ncov_df[\"Fatal\"] = ncov_df['mortality']\n",
    "    ncov_df[\"T\"] =  ((ncov_df.index - ncov_df.index[0]).total_seconds() / 60).astype(int)\n",
    "    \n",
    "    response_variables = [\"T\",\"Susceptible\", \"Infected\", \"Recovered\", \"Fatal\"]\n",
    "    # Return\n",
    "    target_df = dfData.loc[:, [*response_variables]]\n",
    "    \n",
    "    return (first_date, target_df)"
   ]
  },
  {
   "cell_type": "code",
   "execution_count": 13,
   "metadata": {},
   "outputs": [],
   "source": [
    "class ModelBase(object):\n",
    "    NAME = \"Model\"\n",
    "    VARIABLES = [\"x\"]\n",
    "    PRIORITIES = np.array([1])\n",
    "    QUANTILE_RANGE = [0.3, 0.7]\n",
    "    MONOTONIC = [\"x\"]\n",
    "\n",
    "    @classmethod\n",
    "    def param_dict(cls, train_df_divided=None, q_range=None):\n",
    "        \"\"\"\n",
    "        Define parameters without tau. This function should be overwritten.\n",
    "        @train_df_divided <pd.DataFrame>:\n",
    "            - column: t and non-dimensional variables\n",
    "        @q_range <list[float, float]>: quantile rage of the parameters calculated by the data\n",
    "        @return <dict[name]=(min, max):\n",
    "            @min <float>: min value\n",
    "            @max <float>: max value\n",
    "        \"\"\"\n",
    "        param_dict = dict()\n",
    "        return param_dict\n",
    "\n",
    "    @staticmethod\n",
    "    def calc_variables(df):\n",
    "        \"\"\"\n",
    "        Calculate the variables of the model.\n",
    "        This function should be overwritten.\n",
    "        @df <pd.DataFrame>\n",
    "        @return <pd.DataFrame>\n",
    "        \"\"\"\n",
    "        return df\n",
    "\n",
    "    @staticmethod\n",
    "    def calc_variables_reverse(df):\n",
    "        \"\"\"\n",
    "        Calculate measurable variables using the variables of the model.\n",
    "        This function should be overwritten.\n",
    "        @df <pd.DataFrame>\n",
    "        @return <pd.DataFrame>\n",
    "        \"\"\"\n",
    "        return df\n",
    "\n",
    "    @classmethod\n",
    "    def create_dataset(cls, ncov_df, total_population, **kwargs):\n",
    "        \"\"\"\n",
    "        Create dataset with the model-specific varibles.\n",
    "        The variables will be divided by total population.\n",
    "        The column names (not include T) will be lower letters.\n",
    "        **kwargs: See the function named create_target_df()\n",
    "        @return <tuple(objects)>:\n",
    "            - start_date <pd.Timestamp>\n",
    "            - initials <tuple(float)>: the initial values\n",
    "            - Tend <int>: the last value of T\n",
    "            - df <pd.DataFrame>: the dataset\n",
    "        \"\"\"\n",
    "        \n",
    "        start_date, target_df = create_target_df(ncov_df, total_population)\n",
    "        df = cls.calc_variables(target_df).set_index(\"T\") / total_population\n",
    "        df.columns = [n.lower() for n in df.columns]\n",
    "        initials = df.iloc[0, :].values\n",
    "        df = df.reset_index()\n",
    "        Tend = df.iloc[-1, 0]\n",
    "        return (start_date, initials, Tend, df)\n",
    "\n",
    "    def calc_r0(self):\n",
    "        \"\"\"\n",
    "        Calculate R0. This function should be overwritten.\n",
    "        \"\"\"\n",
    "        return None\n",
    "\n",
    "    def calc_days_dict(self, tau):\n",
    "        \"\"\"\n",
    "        Calculate 1/beta [day] etc.\n",
    "        This function should be overwritten.\n",
    "        @param tau <int>: tau value [hour]\n",
    "        \"\"\"\n",
    "        return dict()"
   ]
  },
  {
   "cell_type": "code",
   "execution_count": 14,
   "metadata": {},
   "outputs": [],
   "source": [
    "class SIR(ModelBase):\n",
    "    NAME = \"SIR\"\n",
    "    VARIABLES = [\"x\", \"y\", \"z\"]\n",
    "    PRIORITIES = np.array([1, 1, 1])\n",
    "    MONOTONIC = [\"z\"]\n",
    "\n",
    "    def __init__(self, rho, sigma):\n",
    "        super().__init__()\n",
    "        self.rho = rho\n",
    "        self.sigma = sigma\n",
    "\n",
    "    def __call__(self, t, X):\n",
    "        # x, y, z = [X[i] for i in range(len(self.VARIABLES))]\n",
    "        # dxdt = - self.rho * x * y\n",
    "        # dydt = self.rho * x * y - self.sigma * y\n",
    "        # dzdt = self.sigma * y\n",
    "        dxdt = - self.rho * X[0] * X[1]\n",
    "        dydt = self.rho * X[0] * X[1] - self.sigma * X[1]\n",
    "        dzdt = self.sigma * X[1]\n",
    "        return np.array([dxdt, dydt, dzdt])\n",
    "\n",
    "    @classmethod\n",
    "    def param_dict(cls, train_df_divided=None, q_range=None):\n",
    "        param_dict = super().param_dict()\n",
    "        q_range = super().QUANTILE_RANGE[:] if q_range is None else q_range\n",
    "        if train_df_divided is not None:\n",
    "            df = train_df_divided.copy()\n",
    "            # rho = - (dx/dt) / x / y\n",
    "            rho_series = 0 - df[\"x\"].diff() / df[\"t\"].diff() / df[\"x\"] / df[\"y\"]\n",
    "            param_dict[\"rho\"] = rho_series.quantile(q_range)\n",
    "            # sigma = (dz/dt) / y\n",
    "            sigma_series = df[\"z\"].diff() / df[\"t\"].diff() / df[\"y\"]\n",
    "            param_dict[\"sigma\"] = sigma_series.quantile(q_range)\n",
    "            return param_dict\n",
    "        param_dict[\"rho\"] = (0, 1)\n",
    "        param_dict[\"sigma\"] = (0, 1)\n",
    "        return param_dict\n",
    "\n",
    "    @staticmethod\n",
    "    def calc_variables(df):\n",
    "        df[\"X\"] = df[\"Susceptible\"]\n",
    "        df[\"Y\"] = df[\"Infected\"]\n",
    "        df[\"Z\"] = df[\"Recovered\"] + df[\"Fatal\"]\n",
    "        return df.loc[:, [\"T\", \"X\", \"Y\", \"Z\"]]\n",
    "\n",
    "    @staticmethod\n",
    "    def calc_variables_reverse(df):\n",
    "        df[\"Susceptible\"] = df[\"X\"]\n",
    "        df[\"Infected\"] = df[\"Y\"]\n",
    "        df[\"Recovered/Deaths\"] = df[\"Z\"]\n",
    "        return df\n",
    "\n",
    "    def calc_r0(self):\n",
    "        if self.sigma == 0:\n",
    "            return np.nan\n",
    "        r0 = self.rho / self.sigma\n",
    "        return round(r0, 2)\n",
    "\n",
    "    def calc_days_dict(self, tau):\n",
    "        _dict = dict()\n",
    "        _dict[\"1/beta [day]\"] = int(tau / 24 / 60 / self.rho)\n",
    "        _dict[\"1/gamma [day]\"] = int(tau / 24 / 60 / self.sigma)\n",
    "        return _dict"
   ]
  },
  {
   "cell_type": "code",
   "execution_count": 29,
   "metadata": {},
   "outputs": [],
   "source": [
    "class SEWIRF(ModelBase):\n",
    "    NAME = \"SEWIR-F\"\n",
    "    VARIABLES = [\"x1\", \"x2\", \"x3\", \"y\", \"z\", \"w\"]\n",
    "    PRIORITIES = np.array([0, 0, 0, 10, 10, 2])\n",
    "    MONOTONIC = [\"z\", \"w\"]\n",
    "\n",
    "    def __init__(self, theta, kappa, rho1, rho2, rho3, sigma):\n",
    "        super().__init__()\n",
    "        self.theta = theta\n",
    "        self.kappa = kappa\n",
    "        self.rho1 = rho1\n",
    "        self.rho2 = rho2\n",
    "        self.rho3 = rho3\n",
    "        self.sigma = sigma\n",
    "\n",
    "    def __call__(self, t, X):\n",
    "        # x1, x2, x3, y, z, w = [X[i] for i in range(len(self.VARIABLES))]\n",
    "        # dx1dt = - self.rho1 * x1 * (x3 + y)\n",
    "        # dx2dt = self.rho1 * x1 * (x3 + y) - self.rho2 * x2\n",
    "        # dx3dt = self.rho2 * x2 - self.rho3 * x3\n",
    "        # dydt = self.rho3 * (1 - self.theta) * x3 - (self.sigma + self.kappa) * y\n",
    "        # dzdt = self.sigma * y\n",
    "        # dwdt = self.rho3 * self.theta * x3 + self.kappa * y\n",
    "        dx1dt = - self.rho1 * X[0] * (X[2] + X[3])\n",
    "        dx2dt = self.rho1 * X[0] * (X[2] + X[3]) - self.rho2 * X[1]\n",
    "        dx3dt = self.rho2 * X[1] - self.rho3 * X[2]\n",
    "        dydt = self.rho3 * (1 - self.theta) * X[2] - (self.sigma + self.kappa) * X[3]\n",
    "        dzdt = self.sigma * X[3]\n",
    "        dwdt = self.rho3 * self.theta * X[2] + self.kappa * X[3]\n",
    "        return np.array([dx1dt, dx2dt, dx3dt, dydt, dzdt, dwdt])\n",
    "\n",
    "    @classmethod\n",
    "    def param_dict(cls, train_df_divided=None, q_range=None):\n",
    "        param_dict = super().param_dict()\n",
    "        q_range = super().QUANTILE_RANGE[:] if q_range is None else q_range\n",
    "        param_dict[\"theta\"] = (0, 1)\n",
    "        param_dict[\"kappa\"] = (0, 1)\n",
    "        param_dict[\"rho1\"] = (0, 1)\n",
    "        param_dict[\"rho2\"] = (0, 1)\n",
    "        param_dict[\"rho3\"] = (0, 1)\n",
    "        if train_df_divided is not None:\n",
    "            df = train_df_divided.copy()\n",
    "            # sigma = (dz/dt) / y\n",
    "            sigma_series = df[\"z\"].diff() / df[\"t\"].diff() / df[\"y\"]\n",
    "            param_dict[\"sigma\"] = sigma_series.quantile(q_range)\n",
    "            return param_dict\n",
    "        param_dict[\"sigma\"] = (0, 1)\n",
    "        return param_dict\n",
    "\n",
    "    @staticmethod\n",
    "    def calc_variables(df):\n",
    "        df[\"X1\"] = df[\"Susceptible\"]\n",
    "        df[\"X2\"] = 0\n",
    "        df[\"X3\"] = 0\n",
    "        df[\"Y\"] = df[\"Infected\"]\n",
    "        df[\"Z\"] = df[\"Recovered\"]\n",
    "        df[\"W\"] = df[\"Fatal\"]\n",
    "        return df.loc[:, [\"T\", \"X1\", \"X2\", \"X3\", \"Y\", \"Z\", \"W\"]]\n",
    "\n",
    "    @staticmethod\n",
    "    def calc_variables_reverse(df):\n",
    "        df[\"Susceptible\"] = df[\"X1\"]\n",
    "        df[\"Infected\"] = df[\"Y\"]\n",
    "        df[\"Recovered\"] = df[\"Z\"]\n",
    "        df[\"Fatal\"] = df[\"W\"]\n",
    "        df[\"Exposed\"] = df[\"X2\"]\n",
    "        df[\"Waiting\"] = df[\"X3\"]\n",
    "        return df\n",
    "\n",
    "    def calc_r0(self):\n",
    "        try:\n",
    "            r0 = self.rho1 * (1 - self.theta) / (self.sigma + self.kappa)\n",
    "        except ZeroDivisionError:\n",
    "            return np.nan\n",
    "        return round(r0, 2)\n",
    "\n",
    "    def calc_days_dict(self, tau):\n",
    "        _dict = dict()\n",
    "        _dict[\"alpha1 [-]\"] = round(self.theta, 3)\n",
    "        if self.kappa == 0:\n",
    "            _dict[\"1/alpha2 [day]\"] = 0\n",
    "        else:\n",
    "            _dict[\"1/alpha2 [day]\"] = int(tau / 24 / 60 / self.kappa)\n",
    "        _dict[\"1/beta1 [day]\"] = int(tau / 24 / 60 / self.rho1)\n",
    "        _dict[\"1/beta2 [day]\"] = int(tau / 24 / 60 / self.rho2)\n",
    "        _dict[\"1/beta3 [day]\"] = int(tau / 24 / 60 / self.rho3)\n",
    "        if self.sigma == 0:\n",
    "            _dict[\"1/gamma [day]\"] = 0\n",
    "        else:\n",
    "            _dict[\"1/gamma [day]\"] = int(tau / 24 / 60 / self.sigma)\n",
    "        return _dict"
   ]
  },
  {
   "cell_type": "code",
   "execution_count": 15,
   "metadata": {},
   "outputs": [],
   "source": [
    "def simulation(model, initials, step_n, **params):\n",
    "    \"\"\"\n",
    "    Solve ODE of the model.\n",
    "    @model <ModelBase>: the model\n",
    "    @initials <tuple[float]>: the initial values\n",
    "    @step_n <int>: the number of steps\n",
    "    @params: the paramerters of the model\n",
    "    \"\"\"\n",
    "    tstart, dt, tend = 0, 1, step_n\n",
    "    sol = solve_ivp(\n",
    "        fun=model(**params),\n",
    "        t_span=[tstart, tend],\n",
    "        y0=np.array(initials, dtype=np.float64),\n",
    "        t_eval=np.arange(tstart, tend + dt, dt),\n",
    "        dense_output=False  # True\n",
    "    )\n",
    "    t_df = pd.Series(data=sol[\"t\"], name=\"t\")\n",
    "    y_df = pd.DataFrame(data=sol[\"y\"].T.copy(), columns=model.VARIABLES)\n",
    "    sim_df = pd.concat([t_df, y_df], axis=1)\n",
    "    return sim_df"
   ]
  },
  {
   "cell_type": "code",
   "execution_count": 16,
   "metadata": {},
   "outputs": [],
   "source": [
    "class Estimator(object):\n",
    "    def __init__(self, model, ncov_df, total_population, name=None, places=None, areas=None,\n",
    "                 excluded_places=None, start_date=None, end_date=None, date_format=\"%d%b%Y\", **params):\n",
    "        \"\"\"\n",
    "        Set training data.\n",
    "        @model <ModelBase>: the model\n",
    "        @name <str>: name of the area\n",
    "        @params: fixed parameter of the model\n",
    "        @the other params: See the function named create_target_df()\n",
    "        \"\"\"\n",
    "        # Fixed parameters\n",
    "        self.fixed_param_dict = params.copy()\n",
    "        if None in params.values():\n",
    "            self.fixed_param_dict = {\n",
    "                k: v for (k, v) in params.items() if v is not None\n",
    "            }\n",
    "        # Register the dataset arranged for the model\n",
    "        dataset = model.create_dataset(ncov_df, total_population)\n",
    "        self.start_time, self.initials, self.Tend, self.train_df = dataset\n",
    "        self.total_population = total_population\n",
    "        self.name = name\n",
    "        self.model = model\n",
    "        self.param_dict = dict()\n",
    "        self.study = None\n",
    "        self.optimize_df = None\n",
    "\n",
    "    def run(self, n_trials=500):\n",
    "        \"\"\"\n",
    "        Try estimation (optimization of parameters and tau).\n",
    "        @n_trials <int>: the number of trials\n",
    "        \"\"\"\n",
    "        if self.study is None:\n",
    "            self.study = optuna.create_study(direction=\"minimize\")\n",
    "        self.study.optimize(\n",
    "            lambda x: self.objective(x),\n",
    "            n_trials=n_trials,\n",
    "            n_jobs=-1\n",
    "        )\n",
    "        param_dict = self.study.best_params.copy()\n",
    "        param_dict.update(self.fixed_param_dict)\n",
    "        param_dict[\"R0\"] = self.calc_r0()\n",
    "        param_dict[\"score\"] = self.score()\n",
    "        param_dict.update(self.calc_days_dict())\n",
    "        self.param_dict = param_dict.copy()\n",
    "        return param_dict\n",
    "\n",
    "    def history_df(self):\n",
    "        \"\"\"\n",
    "        Return the hsitory of optimization.\n",
    "        @return <pd.DataFrame>\n",
    "        \"\"\"\n",
    "        optimize_df = self.study.trials_dataframe()\n",
    "        optimize_df[\"time[s]\"] = optimize_df[\"datetime_complete\"] - \\\n",
    "            optimize_df[\"datetime_start\"]\n",
    "        optimize_df[\"time[s]\"] = optimize_df[\"time[s]\"].dt.total_seconds()\n",
    "        self.optimize_df = optimize_df.drop(\n",
    "            [\"datetime_complete\", \"datetime_start\", \"system_attrs__number\"], axis=1)\n",
    "        return self.optimize_df.sort_values(\"value\", ascending=True)\n",
    "\n",
    "    def history_graph(self):\n",
    "        \"\"\"\n",
    "        Show the history of parameter search using pair-plot.\n",
    "        \"\"\"\n",
    "        if self.optimize_df is None:\n",
    "            self.history_df()\n",
    "        df = self.optimize_df.copy()\n",
    "        sns.pairplot(df.loc[:, df.columns.str.startswith(\n",
    "            \"params_\")], diag_kind=\"kde\", markers=\"+\")\n",
    "        plt.show()\n",
    "\n",
    "    def objective(self, trial):\n",
    "        # Time\n",
    "        try:\n",
    "            tau = self.fixed_param_dict[\"tau\"]\n",
    "        except KeyError:\n",
    "            tau = trial.suggest_int(\"tau\", 1, 1440)\n",
    "        train_df_divided = self.train_df.copy()\n",
    "        train_df_divided[\"t\"] = (train_df_divided[\"T\"] / tau).astype(np.int64)\n",
    "        # Parameters\n",
    "        param_dict = self.model.param_dict(train_df_divided)\n",
    "        p_dict = {\"tau\": None}\n",
    "        p_dict.update(\n",
    "            {\n",
    "                k: trial.suggest_uniform(k, *v)\n",
    "                for (k, v) in param_dict.items()\n",
    "            }\n",
    "        )\n",
    "        p_dict.update(self.fixed_param_dict)\n",
    "        p_dict.pop(\"tau\")\n",
    "        # Simulation\n",
    "        t_end = train_df_divided.loc[train_df_divided.index[-1], \"t\"]\n",
    "        sim_df = simulation(self.model, self.initials, step_n=t_end, **p_dict)\n",
    "        return self.error_f(train_df_divided, sim_df)\n",
    "\n",
    "    def error_f(self, train_df_divided, sim_df):\n",
    "        \"\"\"\n",
    "        We need to minimize the difference of the observed values and estimated values.\n",
    "        This function calculate the difference of the estimated value and obsereved value.\n",
    "        \"\"\"\n",
    "        n = self.total_population\n",
    "        df = pd.merge(train_df_divided, sim_df, on=\"t\", suffixes=(\"_observed\", \"_estimated\"))\n",
    "        diffs = [\n",
    "            # Weighted Average: the recent data is more important\n",
    "            p * np.average(\n",
    "                abs(df[f\"{v}_observed\"] - df[f\"{v}_estimated\"]) / (df[f\"{v}_observed\"] * n + 1),\n",
    "                weights=df[\"t\"]\n",
    "            )\n",
    "            for (p, v) in zip(self.model.PRIORITIES, self.model.VARIABLES)\n",
    "        ]\n",
    "        return sum(diffs) * n\n",
    "\n",
    "    def compare_df(self):\n",
    "        \"\"\"\n",
    "        Show the taining data and simulated data in one dataframe.\n",
    "\n",
    "        \"\"\"\n",
    "        est_dict = self.study.best_params.copy()\n",
    "        est_dict.update(self.fixed_param_dict)\n",
    "        tau = est_dict[\"tau\"]\n",
    "        est_dict.pop(\"tau\")\n",
    "        observed_df = self.train_df.drop(\"T\", axis=1)\n",
    "        observed_df[\"t\"] = (self.train_df[\"T\"] / tau).astype(int)\n",
    "        t_end = observed_df.loc[observed_df.index[-1], \"t\"]\n",
    "        sim_df = simulation(self.model, self.initials, step_n=t_end, **est_dict)\n",
    "        df = pd.merge(observed_df, sim_df, on=\"t\", suffixes=(\"_observed\", \"_estimated\"))\n",
    "        df = df.set_index(\"t\")\n",
    "        return df\n",
    "\n",
    "    def compare_graph(self):\n",
    "        \"\"\"\n",
    "        Compare obsereved and estimated values in graphs.\n",
    "        \"\"\"\n",
    "        df = self.compare_df()\n",
    "        use_variables = [\n",
    "            v for (i, (p, v)) in enumerate(zip(self.model.PRIORITIES, self.model.VARIABLES))\n",
    "            if p != 0 and i != 0\n",
    "        ]\n",
    "        val_len = len(use_variables) + 1\n",
    "        fig, axes = plt.subplots(\n",
    "            ncols=1, nrows=val_len, figsize=(9, 6 * val_len / 2))\n",
    "        for (ax, v) in zip(axes.ravel()[1:], use_variables):\n",
    "            df[[f\"{v}_observed\", f\"{v}_estimated\"]].plot.line(\n",
    "                ax=ax, ylim=(0, None), sharex=True,\n",
    "                title=f\"{self.model.NAME}: Comparison of observed/estimated {v}(t)\"\n",
    "            )\n",
    "            ax.yaxis.set_major_formatter(ScalarFormatter(useMathText=True))\n",
    "            ax.ticklabel_format(style=\"sci\",  axis=\"y\", scilimits=(0, 0))\n",
    "            ax.legend(bbox_to_anchor=(1.02, 0),\n",
    "                      loc=\"lower left\", borderaxespad=0)\n",
    "        for v in use_variables:\n",
    "            df[f\"{v}_diff\"] = df[f\"{v}_observed\"] - df[f\"{v}_estimated\"]\n",
    "            df[f\"{v}_diff\"].plot.line(\n",
    "                ax=axes.ravel()[0], sharex=True,\n",
    "                title=f\"{self.model.NAME}: observed - estimated\"\n",
    "            )\n",
    "        axes.ravel()[0].axhline(y=0, color=\"black\", linestyle=\"--\")\n",
    "        axes.ravel()[0].yaxis.set_major_formatter(\n",
    "            ScalarFormatter(useMathText=True))\n",
    "        axes.ravel()[0].ticklabel_format(\n",
    "            style=\"sci\",  axis=\"y\", scilimits=(0, 0))\n",
    "        axes.ravel()[0].legend(bbox_to_anchor=(1.02, 0),\n",
    "                               loc=\"lower left\", borderaxespad=0)\n",
    "        fig.tight_layout()\n",
    "        fig.show()\n",
    "\n",
    "    def calc_r0(self):\n",
    "        \"\"\"\n",
    "        Calculate R0.\n",
    "        \"\"\"\n",
    "        est_dict = self.study.best_params.copy()\n",
    "        est_dict.update(self.fixed_param_dict)\n",
    "        est_dict.pop(\"tau\")\n",
    "        model_instance = self.model(**est_dict)\n",
    "        return model_instance.calc_r0()\n",
    "\n",
    "    def calc_days_dict(self):\n",
    "        \"\"\"\n",
    "        Calculate 1/beta etc.\n",
    "        \"\"\"\n",
    "        est_dict = self.study.best_params.copy()\n",
    "        est_dict.update(self.fixed_param_dict)\n",
    "        tau = est_dict[\"tau\"]\n",
    "        est_dict.pop(\"tau\")\n",
    "        model_instance = self.model(**est_dict)\n",
    "        return model_instance.calc_days_dict(tau)\n",
    "\n",
    "    def predict_df(self, step_n):\n",
    "        \"\"\"\n",
    "        Predict the values in the future.\n",
    "        @step_n <int>: the number of steps\n",
    "        @return <pd.DataFrame>: predicted data for measurable variables.\n",
    "        \"\"\"\n",
    "        est_dict = self.study.best_params.copy()\n",
    "        est_dict.update(self.fixed_param_dict)\n",
    "        tau = est_dict[\"tau\"]\n",
    "        est_dict.pop(\"tau\")\n",
    "        df = simulation(self.model, self.initials, step_n=step_n, **est_dict)\n",
    "        df[\"Time\"] = (\n",
    "            df[\"t\"] * tau).apply(lambda x: timedelta(minutes=x)) + self.start_time\n",
    "        df = df.set_index(\"Time\").drop(\"t\", axis=1)\n",
    "        df = (df * self.total_population).astype(np.int64)\n",
    "        upper_cols = [n.upper() for n in df.columns]\n",
    "        df.columns = upper_cols\n",
    "        df = self.model.calc_variables_reverse(df).drop(upper_cols, axis=1)\n",
    "        return df\n",
    "\n",
    "    def predict_graph(self, step_n, name=None, excluded_cols=None):\n",
    "        \"\"\"\n",
    "        Predict the values in the future and create a figure.\n",
    "        @step_n <int>: the number of steps\n",
    "        @name <str>: name of the area\n",
    "        @excluded_cols <list[str]>: the excluded columns in the figure\n",
    "        \"\"\"\n",
    "        if self.name is not None:\n",
    "            name = self.name\n",
    "        else:\n",
    "            name = str() if name is None else name\n",
    "        df = self.predict_df(step_n=step_n)\n",
    "        if excluded_cols is not None:\n",
    "            df = df.drop(excluded_cols, axis=1)\n",
    "        r0 = self.param_dict[\"R0\"]\n",
    "        title = f\"Prediction in {name} with {self.model.NAME} model: R0 = {r0}\"\n",
    "        line_plot(df, title, v=datetime.today(), h=self.total_population)\n",
    "\n",
    "    def rmsle(self, compare_df):\n",
    "        \"\"\"\n",
    "        Return the value of RMSLE.\n",
    "        @param compare_df <pd.DataFrame>\n",
    "        \"\"\"\n",
    "        df = compare_df.set_index(\"t\") * self.total_population\n",
    "        score = 0\n",
    "        for (priority, v) in zip(self.model.PRIORITIES, self.model.VARIABLES):\n",
    "            if priority == 0:\n",
    "                continue\n",
    "            observed, estimated = df[f\"{v}_observed\"], df[f\"{v}_estimated\"]\n",
    "            diff = (np.log(observed + 1) - np.log(estimated + 1))\n",
    "            score += (diff ** 2).sum()\n",
    "        rmsle = np.sqrt(score / len(df))\n",
    "        return rmsle\n",
    "\n",
    "    def score(self):\n",
    "        \"\"\"\n",
    "        Return the value of RMSLE.\n",
    "        \"\"\"\n",
    "        rmsle = self.rmsle(self.compare_df().reset_index(\"t\"))\n",
    "        return rmsle\n",
    "\n",
    "    def info(self):\n",
    "        \"\"\"\n",
    "        Return Estimater information.\n",
    "        @return <tupple[object]>:\n",
    "            - <ModelBase>: model\n",
    "            - <dict[str]=str>: name, total_population, start_time, tau\n",
    "            - <dict[str]=float>: values of parameters of model\n",
    "        \"\"\"\n",
    "        param_dict = self.study.best_params.copy()\n",
    "        param_dict.update(self.fixed_param_dict)\n",
    "        info_dict = {\n",
    "            \"name\": self.name,\n",
    "            \"total_population\": self.total_population,\n",
    "            \"start_time\": self.start_time,\n",
    "            \"tau\": param_dict[\"tau\"],\n",
    "            \"initials\": self.initials\n",
    "        }\n",
    "        param_dict.pop(\"tau\")\n",
    "        return (self.model, info_dict, param_dict)"
   ]
  },
  {
   "cell_type": "code",
   "execution_count": null,
   "metadata": {},
   "outputs": [],
   "source": []
  },
  {
   "cell_type": "code",
   "execution_count": null,
   "metadata": {},
   "outputs": [],
   "source": []
  },
  {
   "cell_type": "code",
   "execution_count": null,
   "metadata": {},
   "outputs": [],
   "source": []
  },
  {
   "cell_type": "code",
   "execution_count": null,
   "metadata": {},
   "outputs": [],
   "source": []
  },
  {
   "cell_type": "code",
   "execution_count": 17,
   "metadata": {},
   "outputs": [],
   "source": [
    "train_dataset = SIR.create_dataset(\n",
    "    ncov_df=dfData, \n",
    "    total_population = popData.loc['Ontario'].population)\n",
    "train_start_date, train_initials, train_Tend, train_df = train_dataset"
   ]
  },
  {
   "cell_type": "code",
   "execution_count": 18,
   "metadata": {},
   "outputs": [
    {
     "data": {
      "text/html": [
       "<div>\n",
       "<style scoped>\n",
       "    .dataframe tbody tr th:only-of-type {\n",
       "        vertical-align: middle;\n",
       "    }\n",
       "\n",
       "    .dataframe tbody tr th {\n",
       "        vertical-align: top;\n",
       "    }\n",
       "\n",
       "    .dataframe thead th {\n",
       "        text-align: right;\n",
       "    }\n",
       "</style>\n",
       "<table border=\"1\" class=\"dataframe\">\n",
       "  <thead>\n",
       "    <tr style=\"text-align: right;\">\n",
       "      <th></th>\n",
       "      <th>T</th>\n",
       "      <th>x</th>\n",
       "      <th>y</th>\n",
       "      <th>z</th>\n",
       "    </tr>\n",
       "  </thead>\n",
       "  <tbody>\n",
       "    <tr>\n",
       "      <th>0</th>\n",
       "      <td>0</td>\n",
       "      <td>1.0</td>\n",
       "      <td>6.922085e-08</td>\n",
       "      <td>0.000000e+00</td>\n",
       "    </tr>\n",
       "    <tr>\n",
       "      <th>1</th>\n",
       "      <td>2880</td>\n",
       "      <td>1.0</td>\n",
       "      <td>1.384417e-07</td>\n",
       "      <td>0.000000e+00</td>\n",
       "    </tr>\n",
       "    <tr>\n",
       "      <th>2</th>\n",
       "      <td>8640</td>\n",
       "      <td>1.0</td>\n",
       "      <td>2.076625e-07</td>\n",
       "      <td>0.000000e+00</td>\n",
       "    </tr>\n",
       "    <tr>\n",
       "      <th>3</th>\n",
       "      <td>25920</td>\n",
       "      <td>1.0</td>\n",
       "      <td>1.384417e-07</td>\n",
       "      <td>6.922085e-08</td>\n",
       "    </tr>\n",
       "    <tr>\n",
       "      <th>4</th>\n",
       "      <td>27360</td>\n",
       "      <td>1.0</td>\n",
       "      <td>1.384417e-07</td>\n",
       "      <td>6.922085e-08</td>\n",
       "    </tr>\n",
       "  </tbody>\n",
       "</table>\n",
       "</div>"
      ],
      "text/plain": [
       "       T    x             y             z\n",
       "0      0  1.0  6.922085e-08  0.000000e+00\n",
       "1   2880  1.0  1.384417e-07  0.000000e+00\n",
       "2   8640  1.0  2.076625e-07  0.000000e+00\n",
       "3  25920  1.0  1.384417e-07  6.922085e-08\n",
       "4  27360  1.0  1.384417e-07  6.922085e-08"
      ]
     },
     "execution_count": 18,
     "metadata": {},
     "output_type": "execute_result"
    }
   ],
   "source": [
    "train_df.head()"
   ]
  },
  {
   "cell_type": "code",
   "execution_count": 19,
   "metadata": {},
   "outputs": [
    {
     "data": {
      "image/png": "[encoded data removed]",
      "text/plain": [
       "<Figure size 432x288 with 1 Axes>"
      ]
     },
     "metadata": {
      "needs_background": "light"
     },
     "output_type": "display_data"
    }
   ],
   "source": [
    "myVis.line_plot(\n",
    "    train_df.set_index(\"T\").drop(\"x\", axis=1),\n",
    "    \"Training data: y(T), z(T)\", math_scale=False, ylabel=\"\"\n",
    ")"
   ]
  },
  {
   "cell_type": "markdown",
   "metadata": {
    "_cell_guid": "ed7f7e66-b59e-48ec-a72b-a709c3ac9ba8",
    "_uuid": "e64fc4d7-785a-46e5-95e4-c0d98ab7406a"
   },
   "source": [
    "### Example of non-dimensional SIR model\n",
    "For example, set $R_0 = 2.5, \\rho=0.2$."
   ]
  },
  {
   "cell_type": "code",
   "execution_count": 20,
   "metadata": {
    "_cell_guid": "9b9b266d-cbbf-40e7-a3a4-6dacc93a4d15",
    "_kg_hide-input": true,
    "_kg_hide-output": true,
    "_uuid": "dc79d91a-c375-425a-abdf-f076b9a9e85f"
   },
   "outputs": [
    {
     "data": {
      "text/plain": [
       "(0.2, 0.08)"
      ]
     },
     "execution_count": 20,
     "metadata": {},
     "output_type": "execute_result"
    }
   ],
   "source": [
    "eg_r0, eg_rho = (2.5, 0.2)\n",
    "eg_sigma = eg_rho / eg_r0\n",
    "(eg_rho, eg_sigma)"
   ]
  },
  {
   "cell_type": "code",
   "execution_count": 21,
   "metadata": {
    "_cell_guid": "ee3ee9aa-4f12-4da7-b020-c2b957dfeee9",
    "_kg_hide-input": true,
    "_kg_hide-output": true,
    "_uuid": "121b3dd1-c224-4326-bede-80b33cebd9d1"
   },
   "outputs": [
    {
     "name": "stdout",
     "output_type": "stream",
     "text": [
      "Wall time: 12 ms\n"
     ]
    }
   ],
   "source": [
    "%%time\n",
    "eg_df = simulation(SIR, train_initials, step_n=200, rho=eg_rho, sigma=eg_sigma)"
   ]
  },
  {
   "cell_type": "code",
   "execution_count": 22,
   "metadata": {
    "_kg_hide-input": true,
    "_kg_hide-output": true
   },
   "outputs": [
    {
     "data": {
      "text/html": [
       "<div>\n",
       "<style scoped>\n",
       "    .dataframe tbody tr th:only-of-type {\n",
       "        vertical-align: middle;\n",
       "    }\n",
       "\n",
       "    .dataframe tbody tr th {\n",
       "        vertical-align: top;\n",
       "    }\n",
       "\n",
       "    .dataframe thead th {\n",
       "        text-align: right;\n",
       "    }\n",
       "</style>\n",
       "<table border=\"1\" class=\"dataframe\">\n",
       "  <thead>\n",
       "    <tr style=\"text-align: right;\">\n",
       "      <th></th>\n",
       "      <th>t</th>\n",
       "      <th>x</th>\n",
       "      <th>y</th>\n",
       "      <th>z</th>\n",
       "    </tr>\n",
       "  </thead>\n",
       "  <tbody>\n",
       "    <tr>\n",
       "      <th>196</th>\n",
       "      <td>196</td>\n",
       "      <td>0.116477</td>\n",
       "      <td>0.025188</td>\n",
       "      <td>0.858335</td>\n",
       "    </tr>\n",
       "    <tr>\n",
       "      <th>197</th>\n",
       "      <td>197</td>\n",
       "      <td>0.115918</td>\n",
       "      <td>0.023800</td>\n",
       "      <td>0.860282</td>\n",
       "    </tr>\n",
       "    <tr>\n",
       "      <th>198</th>\n",
       "      <td>198</td>\n",
       "      <td>0.115391</td>\n",
       "      <td>0.022486</td>\n",
       "      <td>0.862123</td>\n",
       "    </tr>\n",
       "    <tr>\n",
       "      <th>199</th>\n",
       "      <td>199</td>\n",
       "      <td>0.114894</td>\n",
       "      <td>0.021242</td>\n",
       "      <td>0.863864</td>\n",
       "    </tr>\n",
       "    <tr>\n",
       "      <th>200</th>\n",
       "      <td>200</td>\n",
       "      <td>0.114423</td>\n",
       "      <td>0.020064</td>\n",
       "      <td>0.865513</td>\n",
       "    </tr>\n",
       "  </tbody>\n",
       "</table>\n",
       "</div>"
      ],
      "text/plain": [
       "       t         x         y         z\n",
       "196  196  0.116477  0.025188  0.858335\n",
       "197  197  0.115918  0.023800  0.860282\n",
       "198  198  0.115391  0.022486  0.862123\n",
       "199  199  0.114894  0.021242  0.863864\n",
       "200  200  0.114423  0.020064  0.865513"
      ]
     },
     "execution_count": 22,
     "metadata": {},
     "output_type": "execute_result"
    }
   ],
   "source": [
    "eg_df.tail()"
   ]
  },
  {
   "cell_type": "code",
   "execution_count": 23,
   "metadata": {},
   "outputs": [
    {
     "data": {
      "image/png": "[encoded data removed]",
      "text/plain": [
       "<Figure size 432x288 with 1 Axes>"
      ]
     },
     "metadata": {
      "needs_background": "light"
     },
     "output_type": "display_data"
    }
   ],
   "source": [
    "myVis.line_plot(\n",
    "    eg_df.set_index(\"t\"),\n",
    "    title=r\"SIR: $R_0$={0} ($\\rho$={1}, $\\sigma$={2})\".format(eg_r0, eg_rho, eg_sigma),\n",
    "    ylabel=\"\",\n",
    "    h=1\n",
    ")\n"
   ]
  },
  {
   "cell_type": "code",
   "execution_count": 24,
   "metadata": {},
   "outputs": [
    {
     "name": "stdout",
     "output_type": "stream",
     "text": [
      "Wall time: 17 ms\n"
     ]
    }
   ],
   "source": [
    "%%time\n",
    "sir_estimator = Estimator(SIR, dfData,  popData.loc['Ontario'].population)"
   ]
  },
  {
   "cell_type": "code",
   "execution_count": 25,
   "metadata": {},
   "outputs": [],
   "source": [
    "sir_dict = sir_estimator.run()"
   ]
  },
  {
   "cell_type": "code",
   "execution_count": 26,
   "metadata": {},
   "outputs": [
    {
     "data": {
      "text/plain": [
       "{'tau': 1191,\n",
       " 'rho': 0.0679574265246901,\n",
       " 'sigma': 0.04160415236045736,\n",
       " 'R0': 1.63,\n",
       " 'score': 4.863521180973197,\n",
       " '1/beta [day]': 12,\n",
       " '1/gamma [day]': 19}"
      ]
     },
     "execution_count": 26,
     "metadata": {},
     "output_type": "execute_result"
    }
   ],
   "source": [
    "sir_dict"
   ]
  },
  {
   "cell_type": "code",
   "execution_count": 27,
   "metadata": {},
   "outputs": [
    {
     "data": {
      "text/html": [
       "<div>\n",
       "<style scoped>\n",
       "    .dataframe tbody tr th:only-of-type {\n",
       "        vertical-align: middle;\n",
       "    }\n",
       "\n",
       "    .dataframe tbody tr th {\n",
       "        vertical-align: top;\n",
       "    }\n",
       "\n",
       "    .dataframe thead th {\n",
       "        text-align: right;\n",
       "    }\n",
       "</style>\n",
       "<table border=\"1\" class=\"dataframe\">\n",
       "  <thead>\n",
       "    <tr style=\"text-align: right;\">\n",
       "      <th></th>\n",
       "      <th>tau</th>\n",
       "      <th>rho</th>\n",
       "      <th>sigma</th>\n",
       "      <th>R0</th>\n",
       "      <th>score</th>\n",
       "      <th>1/beta [day]</th>\n",
       "      <th>1/gamma [day]</th>\n",
       "    </tr>\n",
       "  </thead>\n",
       "  <tbody>\n",
       "    <tr>\n",
       "      <th>SIR</th>\n",
       "      <td>1191</td>\n",
       "      <td>0.067957</td>\n",
       "      <td>0.041604</td>\n",
       "      <td>1.63</td>\n",
       "      <td>4.863521</td>\n",
       "      <td>12</td>\n",
       "      <td>19</td>\n",
       "    </tr>\n",
       "  </tbody>\n",
       "</table>\n",
       "</div>"
      ],
      "text/plain": [
       "      tau       rho     sigma    R0     score  1/beta [day]  1/gamma [day]\n",
       "SIR  1191  0.067957  0.041604  1.63  4.863521            12             19"
      ]
     },
     "execution_count": 27,
     "metadata": {},
     "output_type": "execute_result"
    }
   ],
   "source": [
    "pd.DataFrame.from_dict({\"SIR\": sir_dict}, orient=\"index\")"
   ]
  },
  {
   "cell_type": "code",
   "execution_count": 28,
   "metadata": {},
   "outputs": [
    {
     "name": "stderr",
     "output_type": "stream",
     "text": [
      "C:\\Users\\HP\\AppData\\Roaming\\Python\\Python36\\site-packages\\ipykernel_launcher.py:164: UserWarning:\n",
      "\n",
      "Matplotlib is currently using module://ipykernel.pylab.backend_inline, which is a non-GUI backend, so cannot show the figure.\n",
      "\n"
     ]
    },
    {
     "data": {
      "image/png": "[encoded data removed]",
      "text/plain": [
       "<Figure size 648x648 with 3 Axes>"
      ]
     },
     "metadata": {
      "needs_background": "light"
     },
     "output_type": "display_data"
    }
   ],
   "source": [
    "sir_estimator.compare_graph()"
   ]
  },
  {
   "cell_type": "markdown",
   "metadata": {},
   "source": [
    "The modeling is very poor.  Let's try and refine the date to only consider a subset of the data."
   ]
  }
 ],
 "metadata": {
  "kernelspec": {
   "display_name": "mlPlaygroundPy36",
   "language": "python",
   "name": "mlplaygroundpy36"
  },
  "language_info": {
   "codemirror_mode": {
    "name": "ipython",
    "version": 3
   },
   "file_extension": ".py",
   "mimetype": "text/x-python",
   "name": "python",
   "nbconvert_exporter": "python",
   "pygments_lexer": "ipython3",
   "version": "3.6.6"
  }
 },
 "nbformat": 4,
 "nbformat_minor": 4
}
