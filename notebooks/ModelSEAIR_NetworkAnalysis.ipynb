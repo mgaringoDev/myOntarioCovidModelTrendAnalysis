{
 "cells": [
  {
   "cell_type": "markdown",
   "metadata": {},
   "source": [
    "[Prophet Toolbox Documentation](https://facebook.github.io/prophet/docs/saturating_forecasts.html)"
   ]
  },
  {
   "cell_type": "markdown",
   "metadata": {
    "toc-hr-collapsed": true,
    "toc-nb-collapsed": true
   },
   "source": [
    "# Import"
   ]
  },
  {
   "cell_type": "markdown",
   "metadata": {},
   "source": [
    "## Path"
   ]
  },
  {
   "cell_type": "code",
   "execution_count": 1,
   "metadata": {},
   "outputs": [
    {
     "name": "stdout",
     "output_type": "stream",
     "text": [
      "Adding C:\\Cerebral\\_MarioSandBox\\Python\\covid path to system\n"
     ]
    }
   ],
   "source": [
    "import os\n",
    "import sys\n",
    "\n",
    "p = os.path.abspath('../')\n",
    "if p not in sys.path:\n",
    "    print('Adding {} path to system'.format(p))\n",
    "    sys.path.append(p)\n",
    "    \n"
   ]
  },
  {
   "cell_type": "markdown",
   "metadata": {},
   "source": [
    "The [Epidemiological Data from the COVID-19 Outbreak in Canada](https://github.com/ishaberry/Covid19Canada) located in github.\n",
    "\n"
   ]
  },
  {
   "cell_type": "code",
   "execution_count": 2,
   "metadata": {},
   "outputs": [],
   "source": [
    "import plotly# Complete Database\n",
    "from plotly import __version__\n",
    "from plotly.offline import download_plotlyjs, init_notebook_mode, plot, iplot"
   ]
  },
  {
   "cell_type": "markdown",
   "metadata": {},
   "source": [
    "## Modules"
   ]
  },
  {
   "cell_type": "code",
   "execution_count": 3,
   "metadata": {},
   "outputs": [],
   "source": [
    "from myFunctions.covid import covid as cvd\n",
    "import myFunctions.myVis as myVis"
   ]
  },
  {
   "cell_type": "code",
   "execution_count": 4,
   "metadata": {},
   "outputs": [],
   "source": [
    "import pandas as pd\n",
    "import numpy as np"
   ]
  },
  {
   "cell_type": "code",
   "execution_count": 5,
   "metadata": {},
   "outputs": [],
   "source": [
    "from utilities.EpiModel import *\n",
    "import utilities.PDEparams as pde\n",
    "from scipy.integrate import odeint"
   ]
  },
  {
   "cell_type": "code",
   "execution_count": 6,
   "metadata": {},
   "outputs": [],
   "source": [
    "from scipy.integrate import solve_ivp\n",
    "import optuna\n",
    "optuna.logging.disable_default_handler()\n",
    "import matplotlib.pyplot as plt\n",
    "from matplotlib.ticker import ScalarFormatter\n",
    "from datetime import timedelta"
   ]
  },
  {
   "cell_type": "markdown",
   "metadata": {},
   "source": [
    "# Modeling Functions"
   ]
  },
  {
   "cell_type": "code",
   "execution_count": 7,
   "metadata": {},
   "outputs": [],
   "source": [
    "def getPop(province='Ontario',p='C:\\Cerebral\\_MarioSandBox\\Python\\covid'):\n",
    "    provinceDataPopFile = '\\data\\provincePop.csv'\n",
    "    popData = pd.read_csv(p + provinceDataPopFile)\n",
    "    popData = popData.set_index('province')    \n",
    "    return popData.loc[province].population"
   ]
  },
  {
   "cell_type": "code",
   "execution_count": 8,
   "metadata": {},
   "outputs": [],
   "source": [
    "def seair(X,t,ba,bi,eta,p,g):\n",
    "    s,e,a,i,r=X\n",
    "    \n",
    "    ds=-(ba*a+bi*i)*s\n",
    "    de=(ba*a+bi*i)*s-eta*e\n",
    "    da=p*eta*e-g*a\n",
    "    di=(1-p)*eta*e-g*i\n",
    "    dr=g*i+g*a\n",
    "    return[ds,de,da,di,dr]\n",
    "\n",
    "\n",
    "def seairm(X,t,ba,bi,eta,p,g,m):\n",
    "    s,e,a,i,r=X\n",
    "    \n",
    "    ds=-(ba*a+bi*i)*s\n",
    "    de=(ba*a+bi*i)*s-eta*e\n",
    "    da=p*eta*e-g*a\n",
    "    di=(1-p)*eta*e-g*i-m*i\n",
    "    dr=g*i+g*a\n",
    "    return[ds,de,da,di,dr]\n",
    "\n",
    "def sol_seair(init,t,ba,bi,eta,p,g):\n",
    "    sol=odeint(seair,init,t,args=(ba,bi,eta,p,g))\n",
    "    return(sol)\n",
    "\n",
    "def sol_seairm(init,t,ba,bi,eta,p,g,m):\n",
    "    sol=odeint(seairm,init,t,args=(ba,bi,eta,p,g,m))\n",
    "    return(sol)"
   ]
  },
  {
   "cell_type": "code",
   "execution_count": 9,
   "metadata": {},
   "outputs": [],
   "source": [
    "def init_s():\n",
    "    return 1-init_i()\n",
    "\n",
    "def init_i():\n",
    "    return df['I'][0]\n",
    "\n",
    "def init_r():\n",
    "    return 0\n",
    "\n",
    "def init_a():\n",
    "    return 0\n",
    "\n",
    "def init_e():\n",
    "    return 0"
   ]
  },
  {
   "cell_type": "markdown",
   "metadata": {
    "toc-hr-collapsed": true,
    "toc-nb-collapsed": true
   },
   "source": [
    "# Get Data"
   ]
  },
  {
   "cell_type": "code",
   "execution_count": 10,
   "metadata": {},
   "outputs": [
    {
     "name": "stdout",
     "output_type": "stream",
     "text": [
      "Getting COVID data\n",
      "cached\n"
     ]
    }
   ],
   "source": [
    "covidObject = cvd(cached=True)"
   ]
  },
  {
   "cell_type": "code",
   "execution_count": 11,
   "metadata": {},
   "outputs": [],
   "source": [
    "provToAnalyze = 'Ontario'\n",
    "covidObject.getProcessedData(provToAnalyze)"
   ]
  },
  {
   "cell_type": "code",
   "execution_count": 12,
   "metadata": {},
   "outputs": [],
   "source": [
    "# convert dictionary into dataframe\n",
    "dfData = pd.DataFrame.from_dict(covidObject.dataProcess)\n",
    "# convert date col to datetime pandas series\n",
    "dfData['date'] = pd.to_datetime(dfData['date'])\n",
    "# convert index to dates\n",
    "dfData = dfData.set_index('date')"
   ]
  },
  {
   "cell_type": "code",
   "execution_count": 13,
   "metadata": {},
   "outputs": [
    {
     "data": {
      "text/plain": [
       "<matplotlib.axes._subplots.AxesSubplot at 0x10d69d68>"
      ]
     },
     "execution_count": 13,
     "metadata": {},
     "output_type": "execute_result"
    },
    {
     "data": {
      "image/png": "[encoded data removed]",
      "text/plain": [
       "<Figure size 432x288 with 1 Axes>"
      ]
     },
     "metadata": {
      "needs_background": "light"
     },
     "output_type": "display_data"
    }
   ],
   "source": [
    "dfData.plot()"
   ]
  },
  {
   "cell_type": "code",
   "execution_count": 14,
   "metadata": {},
   "outputs": [
    {
     "data": {
      "text/html": [
       "<div>\n",
       "<style scoped>\n",
       "    .dataframe tbody tr th:only-of-type {\n",
       "        vertical-align: middle;\n",
       "    }\n",
       "\n",
       "    .dataframe tbody tr th {\n",
       "        vertical-align: top;\n",
       "    }\n",
       "\n",
       "    .dataframe thead th {\n",
       "        text-align: right;\n",
       "    }\n",
       "</style>\n",
       "<table border=\"1\" class=\"dataframe\">\n",
       "  <thead>\n",
       "    <tr style=\"text-align: right;\">\n",
       "      <th></th>\n",
       "      <th>contracted</th>\n",
       "      <th>mortality</th>\n",
       "      <th>recovered</th>\n",
       "      <th>testing</th>\n",
       "    </tr>\n",
       "    <tr>\n",
       "      <th>date</th>\n",
       "      <th></th>\n",
       "      <th></th>\n",
       "      <th></th>\n",
       "      <th></th>\n",
       "    </tr>\n",
       "  </thead>\n",
       "  <tbody>\n",
       "    <tr>\n",
       "      <th>2020-04-09</th>\n",
       "      <td>6397</td>\n",
       "      <td>233</td>\n",
       "      <td>2305</td>\n",
       "      <td>88698</td>\n",
       "    </tr>\n",
       "    <tr>\n",
       "      <th>2020-04-10</th>\n",
       "      <td>6804</td>\n",
       "      <td>269</td>\n",
       "      <td>2574</td>\n",
       "      <td>92673</td>\n",
       "    </tr>\n",
       "    <tr>\n",
       "      <th>2020-04-11</th>\n",
       "      <td>7294</td>\n",
       "      <td>290</td>\n",
       "      <td>2858</td>\n",
       "      <td>96321</td>\n",
       "    </tr>\n",
       "    <tr>\n",
       "      <th>2020-04-12</th>\n",
       "      <td>7727</td>\n",
       "      <td>303</td>\n",
       "      <td>3121</td>\n",
       "      <td>103165</td>\n",
       "    </tr>\n",
       "    <tr>\n",
       "      <th>2020-04-13</th>\n",
       "      <td>8221</td>\n",
       "      <td>333</td>\n",
       "      <td>3357</td>\n",
       "      <td>108230</td>\n",
       "    </tr>\n",
       "  </tbody>\n",
       "</table>\n",
       "</div>"
      ],
      "text/plain": [
       "            contracted  mortality  recovered  testing\n",
       "date                                                 \n",
       "2020-04-09        6397        233       2305    88698\n",
       "2020-04-10        6804        269       2574    92673\n",
       "2020-04-11        7294        290       2858    96321\n",
       "2020-04-12        7727        303       3121   103165\n",
       "2020-04-13        8221        333       3357   108230"
      ]
     },
     "execution_count": 14,
     "metadata": {},
     "output_type": "execute_result"
    }
   ],
   "source": [
    "dfData.tail()"
   ]
  },
  {
   "cell_type": "code",
   "execution_count": 15,
   "metadata": {},
   "outputs": [],
   "source": [
    "provPop = getPop('Ontario')"
   ]
  },
  {
   "cell_type": "markdown",
   "metadata": {},
   "source": [
    "# Trend Analysis"
   ]
  },
  {
   "cell_type": "markdown",
   "metadata": {},
   "source": [
    "### Contracted"
   ]
  },
  {
   "cell_type": "markdown",
   "metadata": {},
   "source": [
    "From the above critical points we see that there are 3 phases.\n",
    "\n",
    "| Phase | Start Date (index) | End Date (index) |\n",
    "|-------|--------------------|------------------|\n",
    "| 1     | 2020-03-05 (25)    | 2020-03-20 (40)  |\n",
    "| 2     | 2020-03-20 (40)    | 2020-04-04 (55)  |\n",
    "| 3     | 2020-04-04 (55)    | today (:)        |"
   ]
  },
  {
   "cell_type": "code",
   "execution_count": 16,
   "metadata": {},
   "outputs": [],
   "source": [
    "phase = [1,2,3]\n",
    "phaseStart = [25,40,55]\n",
    "phaseEnd = [40,55,len(dfData)]\n",
    "\n",
    "critPhaseCases = []\n",
    "\n",
    "for p,ps,pe in zip(phase,phaseStart,phaseEnd):\n",
    "    dictPhase = {\n",
    "        'phase':p,\n",
    "        'phaseStart':ps,\n",
    "        'phaseEnd':pe}\n",
    "    critPhaseCases.append(dictPhase)"
   ]
  },
  {
   "cell_type": "markdown",
   "metadata": {},
   "source": [
    "### Deaths"
   ]
  },
  {
   "cell_type": "markdown",
   "metadata": {},
   "source": [
    "Similar to the number of cases graph from the above critical points we see that there are 3 phases.\n",
    "\n",
    "| Phase | Start Date (index) | End Date (index) |\n",
    "|-------|--------------------|------------------|\n",
    "| 1     | 2020-03-18 (38)    | 2020-03-28 (48)  |\n",
    "| 2     | 2020-03-28 (48)    | 2020-04-06 (57)  |\n",
    "| 3     | 2020-04-06 (57)    | today (:)        |"
   ]
  },
  {
   "cell_type": "code",
   "execution_count": 17,
   "metadata": {},
   "outputs": [],
   "source": [
    "phaseStart = [38,48,57]\n",
    "phaseEnd = [48,57,len(dfData)]\n",
    "\n",
    "critPhaseDeath = []\n",
    "\n",
    "for p,ps,pe in zip(phase,phaseStart,phaseEnd):\n",
    "    dictPhase = {\n",
    "        'phase':p,\n",
    "        'phaseStart':ps,\n",
    "        'phaseEnd':pe}\n",
    "    critPhaseDeath.append(dictPhase)"
   ]
  },
  {
   "cell_type": "markdown",
   "metadata": {},
   "source": [
    "# Modeling SIRM"
   ]
  },
  {
   "cell_type": "code",
   "execution_count": 18,
   "metadata": {},
   "outputs": [
    {
     "data": {
      "text/plain": [
       "[{'phase': 1, 'phaseStart': 25, 'phaseEnd': 40},\n",
       " {'phase': 2, 'phaseStart': 40, 'phaseEnd': 55},\n",
       " {'phase': 3, 'phaseStart': 55, 'phaseEnd': 65}]"
      ]
     },
     "execution_count": 18,
     "metadata": {},
     "output_type": "execute_result"
    }
   ],
   "source": [
    "critPhaseCases"
   ]
  },
  {
   "cell_type": "code",
   "execution_count": 19,
   "metadata": {},
   "outputs": [
    {
     "data": {
      "text/html": [
       "<div>\n",
       "<style scoped>\n",
       "    .dataframe tbody tr th:only-of-type {\n",
       "        vertical-align: middle;\n",
       "    }\n",
       "\n",
       "    .dataframe tbody tr th {\n",
       "        vertical-align: top;\n",
       "    }\n",
       "\n",
       "    .dataframe thead th {\n",
       "        text-align: right;\n",
       "    }\n",
       "</style>\n",
       "<table border=\"1\" class=\"dataframe\">\n",
       "  <thead>\n",
       "    <tr style=\"text-align: right;\">\n",
       "      <th></th>\n",
       "      <th>contracted</th>\n",
       "      <th>mortality</th>\n",
       "      <th>recovered</th>\n",
       "      <th>testing</th>\n",
       "    </tr>\n",
       "    <tr>\n",
       "      <th>date</th>\n",
       "      <th></th>\n",
       "      <th></th>\n",
       "      <th></th>\n",
       "      <th></th>\n",
       "    </tr>\n",
       "  </thead>\n",
       "  <tbody>\n",
       "    <tr>\n",
       "      <th>2020-04-09</th>\n",
       "      <td>6397</td>\n",
       "      <td>233</td>\n",
       "      <td>2305</td>\n",
       "      <td>88698</td>\n",
       "    </tr>\n",
       "    <tr>\n",
       "      <th>2020-04-10</th>\n",
       "      <td>6804</td>\n",
       "      <td>269</td>\n",
       "      <td>2574</td>\n",
       "      <td>92673</td>\n",
       "    </tr>\n",
       "    <tr>\n",
       "      <th>2020-04-11</th>\n",
       "      <td>7294</td>\n",
       "      <td>290</td>\n",
       "      <td>2858</td>\n",
       "      <td>96321</td>\n",
       "    </tr>\n",
       "    <tr>\n",
       "      <th>2020-04-12</th>\n",
       "      <td>7727</td>\n",
       "      <td>303</td>\n",
       "      <td>3121</td>\n",
       "      <td>103165</td>\n",
       "    </tr>\n",
       "    <tr>\n",
       "      <th>2020-04-13</th>\n",
       "      <td>8221</td>\n",
       "      <td>333</td>\n",
       "      <td>3357</td>\n",
       "      <td>108230</td>\n",
       "    </tr>\n",
       "  </tbody>\n",
       "</table>\n",
       "</div>"
      ],
      "text/plain": [
       "            contracted  mortality  recovered  testing\n",
       "date                                                 \n",
       "2020-04-09        6397        233       2305    88698\n",
       "2020-04-10        6804        269       2574    92673\n",
       "2020-04-11        7294        290       2858    96321\n",
       "2020-04-12        7727        303       3121   103165\n",
       "2020-04-13        8221        333       3357   108230"
      ]
     },
     "execution_count": 19,
     "metadata": {},
     "output_type": "execute_result"
    }
   ],
   "source": [
    "dfData.tail()"
   ]
  },
  {
   "cell_type": "markdown",
   "metadata": {},
   "source": [
    "## Estimation"
   ]
  },
  {
   "cell_type": "code",
   "execution_count": 20,
   "metadata": {},
   "outputs": [
    {
     "name": "stdout",
     "output_type": "stream",
     "text": [
      "Now analyzing phase 1\n",
      "       $ba$      $bi$    $eta$       $p$       $g$\n",
      "0  0.302076  0.658844  0.19939  0.100304  0.071492\n",
      "error is 9.402870028427893e-13\n",
      "Now analyzing phase 2\n",
      "       $ba$     $bi$     $eta$       $p$       $g$\n",
      "0  0.300276  0.65453  0.199883  0.100973  0.071722\n",
      "error is 9.718951444091816e-11\n",
      "Now analyzing phase 3\n",
      "       $ba$      $bi$     $eta$       $p$       $g$\n",
      "0  0.301896  0.409392  0.199887  0.100033  0.071465\n",
      "error is 3.2631279180143376e-09\n"
     ]
    },
    {
     "data": {
      "image/png": "[encoded data removed]",
      "text/plain": [
       "<Figure size 1008x576 with 3 Axes>"
      ]
     },
     "metadata": {
      "needs_background": "light"
     },
     "output_type": "display_data"
    }
   ],
   "source": [
    "figNum = 1\n",
    "fig1,ax=plt.subplots(1,3,figsize=(14,8))\n",
    "for phase in critPhaseCases:\n",
    "    print(f\"Now analyzing phase {phase['phase']}\")\n",
    "    \n",
    "    start = phase['phaseStart']\n",
    "    fin = phase['phaseEnd']\n",
    "    \n",
    "    # get subData\n",
    "    iData = dfData['contracted'].tolist()[start:fin]\n",
    "    df = pd.DataFrame(range(len(iData)),columns=['t'])\n",
    "    df['I'] = iData/provPop\n",
    "    \n",
    "    #Parameter estimation\n",
    "    my_seair=pde.PDEmodel(df,\n",
    "                          seair,\n",
    "                          [init_s,init_e,init_a,init_i,init_r],\n",
    "                          bounds=[(0.3,2),(0.3,2),(1/14,1/5),(0.1,0.9),(1/14,1/5)],\n",
    "                          param_names=[r'$ba$', r'$bi$',r'$eta$',r'$p$',r'$g$'], \n",
    "                          nvars=5, \n",
    "                          ndims=0, \n",
    "                          nreplicates=1, \n",
    "                          obsidx=[3], \n",
    "                          outfunc=None)\n",
    "    \n",
    "    \n",
    "    my_seair.fit()\n",
    "    my_seair.best_params\n",
    "    print(f\"error is {my_seair.best_error}\")\n",
    "    \n",
    "    bestPars_seair=my_seair.best_params\n",
    "    baBseair=bestPars_seair['$ba$'][0]\n",
    "    biBseair=bestPars_seair['$bi$'][0]\n",
    "    eBseair=bestPars_seair['$eta$'][0]\n",
    "    pBseair=bestPars_seair['$p$'][0]\n",
    "    gBseair=bestPars_seair['$g$'][0]\n",
    "\n",
    "    bestSol_seair=odeint(seair,\n",
    "                         [init_s(),init_e(),init_a(),init_i(),init_r()],\n",
    "                         range(len(iData)),\n",
    "                         args=(baBseair,biBseair,eBseair,pBseair,gBseair))\n",
    "    Sseair=bestSol_seair.T[0]\n",
    "    Eseair=bestSol_seair.T[1]\n",
    "    Aseair=bestSol_seair.T[2]\n",
    "    Iseair=bestSol_seair.T[3]\n",
    "    Rseair=bestSol_seair.T[4]\n",
    "\n",
    "    \n",
    "    ax[phase['phase']-1].plot(range(len(iData)),Iseair,'-o',label='Iseair')\n",
    "    ax[phase['phase']-1].plot(range(len(iData)),df['I'],'-o',label='data')\n",
    "    ax[phase['phase']-1].set_title(f\"Model phase {phase['phase']}\")\n",
    "    ax[phase['phase']-1].set_xlabel('Time (days)')\n",
    "    ax[phase['phase']-1].set_ylabel('Proportion')\n",
    "    ax[phase['phase']-1].legend()"
   ]
  },
  {
   "cell_type": "markdown",
   "metadata": {},
   "source": [
    "I think I am doing something with the E portion of the model as everytime I use it something goes wrong.  Lets look closer in"
   ]
  },
  {
   "cell_type": "code",
   "execution_count": null,
   "metadata": {},
   "outputs": [
    {
     "name": "stdout",
     "output_type": "stream",
     "text": [
      "Now analyzing phase 1\n",
      "       $ba$      $bi$     $eta$       $p$       $g$       $m$\n",
      "0  0.302305  0.663233  0.199763  0.100406  0.071451  0.002001\n",
      "error is 9.452979997205213e-13\n",
      "Now analyzing phase 2\n",
      "       $ba$      $bi$     $eta$       $p$      $g$      $m$\n",
      "0  0.300873  0.656973  0.199702  0.100816  0.07145  0.00111\n",
      "error is 9.761555769139997e-11\n",
      "Now analyzing phase 3\n"
     ]
    }
   ],
   "source": [
    "figNum = 1\n",
    "fig1,ax=plt.subplots(1,3,figsize=(14,8))\n",
    "for phase in critPhaseCases:\n",
    "    print(f\"Now analyzing phase {phase['phase']}\")\n",
    "    \n",
    "    start = phase['phaseStart']\n",
    "    fin = phase['phaseEnd']\n",
    "    \n",
    "    # get subData\n",
    "    iData = dfData['contracted'].tolist()[start:fin]\n",
    "    df = pd.DataFrame(range(len(iData)),columns=['t'])\n",
    "    df['I'] = iData/provPop\n",
    "    \n",
    "    #Parameter estimation\n",
    "    my_seairm=pde.PDEmodel(df,\n",
    "                           seairm,\n",
    "                           [init_s,init_e,init_a,init_i,init_r],\n",
    "                           bounds=[(0.3,2),(0.3,2),(1/14,1/5),(0.1,0.9),(1/14,1/5),(0.001,0.3)],\n",
    "                           param_names=[r'$ba$', r'$bi$',r'$eta$',r'$p$',r'$g$',r'$m$'], \n",
    "                           nvars=5, \n",
    "                           ndims=0, \n",
    "                           nreplicates=1, \n",
    "                           obsidx=[3], \n",
    "                           outfunc=None)\n",
    "   \n",
    "    my_seairm.fit()\n",
    "    my_seairm.best_params\n",
    "    print(f\"error is {my_seairm.best_error}\")\n",
    "    bestPars_seairm=my_seairm.best_params\n",
    "    baBseairm=bestPars_seairm['$ba$'][0]\n",
    "    biBseairm=bestPars_seairm['$bi$'][0]\n",
    "    eBseairm=bestPars_seairm['$eta$'][0]\n",
    "    pBseairm=bestPars_seairm['$p$'][0]\n",
    "    gBseairm=bestPars_seairm['$g$'][0]\n",
    "    mBseairm=bestPars_seairm['$m$'][0]\n",
    "\n",
    "    bestSol_seairm=odeint(seairm,\n",
    "                          [init_s(),init_e(),init_a(),init_i(),init_r()],\n",
    "                          range(len(iData)),\n",
    "                          args=(baBseairm,biBseairm,eBseairm,pBseairm,gBseairm,mBseairm))\n",
    "    #sol=odeint(sir,[shortMex.sum(axis=0),1,0],tMex,args=(bB,gB))\n",
    "    Sseairm=bestSol_seairm.T[0]\n",
    "    Eseairm=bestSol_seairm.T[1]\n",
    "    Aseairm=bestSol_seairm.T[2]\n",
    "    Iseairm=bestSol_seairm.T[3]\n",
    "    Rseairm=bestSol_seairm.T[4]\n",
    "    \n",
    "    ax[phase['phase']-1].plot(range(len(iData)),Iseairm,'-o',label='Iseairm')\n",
    "    ax[phase['phase']-1].plot(range(len(iData)),df['I'],'-o',label='data')\n",
    "    ax[phase['phase']-1].set_title(f\"Model phase {phase['phase']}\")\n",
    "    ax[phase['phase']-1].set_xlabel('Time (days)')\n",
    "    ax[phase['phase']-1].set_ylabel('Proportion')\n",
    "    ax[phase['phase']-1].legend()"
   ]
  },
  {
   "cell_type": "markdown",
   "metadata": {},
   "source": [
    "This looks very similar to the previous one but with a slightly lower error, might use this for prediction but lets coninue with the other models."
   ]
  },
  {
   "cell_type": "code",
   "execution_count": null,
   "metadata": {},
   "outputs": [],
   "source": []
  }
 ],
 "metadata": {
  "kernelspec": {
   "display_name": "mlPlaygroundPy36",
   "language": "python",
   "name": "mlplaygroundpy36"
  },
  "language_info": {
   "codemirror_mode": {
    "name": "ipython",
    "version": 3
   },
   "file_extension": ".py",
   "mimetype": "text/x-python",
   "name": "python",
   "nbconvert_exporter": "python",
   "pygments_lexer": "ipython3",
   "version": "3.6.6"
  }
 },
 "nbformat": 4,
 "nbformat_minor": 4
}
