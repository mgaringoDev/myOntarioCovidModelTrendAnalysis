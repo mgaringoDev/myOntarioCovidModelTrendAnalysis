{
 "cells": [
  {
   "cell_type": "markdown",
   "metadata": {},
   "source": [
    "[Prophet Toolbox Documentation](https://facebook.github.io/prophet/docs/saturating_forecasts.html)"
   ]
  },
  {
   "cell_type": "markdown",
   "metadata": {},
   "source": [
    "# Import"
   ]
  },
  {
   "cell_type": "markdown",
   "metadata": {},
   "source": [
    "## Path"
   ]
  },
  {
   "cell_type": "code",
   "execution_count": 1,
   "metadata": {},
   "outputs": [
    {
     "name": "stdout",
     "output_type": "stream",
     "text": [
      "Adding C:\\Cerebral\\_MarioSandBox\\Python\\projectPage_myOntarioCovidModelTrendAnalysis\\git_projectCodes\\myOntarioCovidModelTrendAnalysis path to system\n"
     ]
    }
   ],
   "source": [
    "import os\n",
    "import sys\n",
    "\n",
    "p = os.path.abspath('../')\n",
    "if p not in sys.path:\n",
    "    print('Adding {} path to system'.format(p))\n",
    "    sys.path.append(p)\n",
    "    \n"
   ]
  },
  {
   "cell_type": "markdown",
   "metadata": {},
   "source": [
    "The [Epidemiological Data from the COVID-19 Outbreak in Canada](https://github.com/ishaberry/Covid19Canada) located in github.\n",
    "\n"
   ]
  },
  {
   "cell_type": "code",
   "execution_count": 2,
   "metadata": {},
   "outputs": [],
   "source": [
    "import plotly# Complete Database\n",
    "from plotly import __version__\n",
    "from plotly.offline import download_plotlyjs, init_notebook_mode, plot, iplot"
   ]
  },
  {
   "cell_type": "markdown",
   "metadata": {},
   "source": [
    "## Modules"
   ]
  },
  {
   "cell_type": "code",
   "execution_count": 3,
   "metadata": {},
   "outputs": [],
   "source": [
    "from myFunctions.covid import covid as cvd\n",
    "import myFunctions.myVis as myVis\n",
    "\n",
    "# SIR Models\n",
    "import myFunctions.mySIR as mySIRModel\n",
    "import myFunctions.mySIRM as mySIRMModel\n",
    "\n",
    "# SIGR Models\n",
    "import myFunctions.mySIGR as mySIGRModel\n",
    "import myFunctions.mySIGRM as mySIGRMModel\n",
    "\n",
    "# SDIR Models\n",
    "import myFunctions.mySDIR as mySDIRModel\n",
    "import myFunctions.mySDIRM as mySDIRMModel\n",
    "\n",
    "#SAIR Models\n",
    "import myFunctions.mySAIR as mySAIRModel\n",
    "import myFunctions.mySAIRM as mySAIRMModel"
   ]
  },
  {
   "cell_type": "code",
   "execution_count": 4,
   "metadata": {},
   "outputs": [],
   "source": [
    "import pandas as pd\n",
    "import numpy as np"
   ]
  },
  {
   "cell_type": "code",
   "execution_count": 5,
   "metadata": {},
   "outputs": [],
   "source": [
    "from utilities.EpiModel import *\n",
    "import utilities.PDEparams as pde\n",
    "from scipy.integrate import odeint"
   ]
  },
  {
   "cell_type": "code",
   "execution_count": 6,
   "metadata": {},
   "outputs": [],
   "source": [
    "from scipy.integrate import solve_ivp\n",
    "import optuna\n",
    "optuna.logging.disable_default_handler()\n",
    "import matplotlib.pyplot as plt\n",
    "from matplotlib.ticker import ScalarFormatter\n",
    "from datetime import timedelta"
   ]
  },
  {
   "cell_type": "markdown",
   "metadata": {},
   "source": [
    "# Modeling Functions"
   ]
  },
  {
   "cell_type": "code",
   "execution_count": 7,
   "metadata": {},
   "outputs": [],
   "source": [
    "def getPop(province='Ontario',p='C:\\Cerebral\\_MarioSandBox\\Python\\projectPage_myOntarioCovidModelTrendAnalysis\\git_projectCodes\\myOntarioCovidModelTrendAnalysis'):\n",
    "    provinceDataPopFile = '\\data\\provincePop.csv'\n",
    "    popData = pd.read_csv(p + provinceDataPopFile)\n",
    "    popData = popData.set_index('province')    \n",
    "    return popData.loc[province].population"
   ]
  },
  {
   "cell_type": "markdown",
   "metadata": {},
   "source": [
    "# Get Data"
   ]
  },
  {
   "cell_type": "code",
   "execution_count": 8,
   "metadata": {},
   "outputs": [
    {
     "name": "stdout",
     "output_type": "stream",
     "text": [
      "Getting COVID data\n"
     ]
    }
   ],
   "source": [
    "covidObject = cvd(cached=False)"
   ]
  },
  {
   "cell_type": "code",
   "execution_count": 9,
   "metadata": {},
   "outputs": [],
   "source": [
    "provToAnalyze = 'Ontario'\n",
    "covidObject.getProcessedData(provToAnalyze)"
   ]
  },
  {
   "cell_type": "code",
   "execution_count": 10,
   "metadata": {},
   "outputs": [],
   "source": [
    "# convert dictionary into dataframe\n",
    "dfData = pd.DataFrame.from_dict(covidObject.dataProcess)\n",
    "# convert date col to datetime pandas series\n",
    "dfData['date'] = pd.to_datetime(dfData['date'])\n",
    "# convert index to dates\n",
    "dfData = dfData.set_index('date')"
   ]
  },
  {
   "cell_type": "code",
   "execution_count": 11,
   "metadata": {},
   "outputs": [
    {
     "data": {
      "text/plain": [
       "<matplotlib.axes._subplots.AxesSubplot at 0x11010c18>"
      ]
     },
     "execution_count": 11,
     "metadata": {},
     "output_type": "execute_result"
    },
    {
     "data": {
      "image/png": "[encoded data removed]",
      "text/plain": [
       "<Figure size 432x288 with 1 Axes>"
      ]
     },
     "metadata": {
      "needs_background": "light"
     },
     "output_type": "display_data"
    }
   ],
   "source": [
    "dfData.plot()"
   ]
  },
  {
   "cell_type": "code",
   "execution_count": 12,
   "metadata": {},
   "outputs": [
    {
     "data": {
      "text/html": [
       "<div>\n",
       "<style scoped>\n",
       "    .dataframe tbody tr th:only-of-type {\n",
       "        vertical-align: middle;\n",
       "    }\n",
       "\n",
       "    .dataframe tbody tr th {\n",
       "        vertical-align: top;\n",
       "    }\n",
       "\n",
       "    .dataframe thead th {\n",
       "        text-align: right;\n",
       "    }\n",
       "</style>\n",
       "<table border=\"1\" class=\"dataframe\">\n",
       "  <thead>\n",
       "    <tr style=\"text-align: right;\">\n",
       "      <th></th>\n",
       "      <th>contracted</th>\n",
       "      <th>mortality</th>\n",
       "      <th>recovered</th>\n",
       "      <th>testing</th>\n",
       "    </tr>\n",
       "    <tr>\n",
       "      <th>date</th>\n",
       "      <th></th>\n",
       "      <th></th>\n",
       "      <th></th>\n",
       "      <th></th>\n",
       "    </tr>\n",
       "  </thead>\n",
       "  <tbody>\n",
       "    <tr>\n",
       "      <th>2020-04-21</th>\n",
       "      <td>12706</td>\n",
       "      <td>697</td>\n",
       "      <td>5806</td>\n",
       "      <td>174170</td>\n",
       "    </tr>\n",
       "    <tr>\n",
       "      <th>2020-04-22</th>\n",
       "      <td>13418</td>\n",
       "      <td>757</td>\n",
       "      <td>6221</td>\n",
       "      <td>184531</td>\n",
       "    </tr>\n",
       "    <tr>\n",
       "      <th>2020-04-23</th>\n",
       "      <td>13996</td>\n",
       "      <td>798</td>\n",
       "      <td>6680</td>\n",
       "      <td>194745</td>\n",
       "    </tr>\n",
       "    <tr>\n",
       "      <th>2020-04-24</th>\n",
       "      <td>14487</td>\n",
       "      <td>851</td>\n",
       "      <td>7087</td>\n",
       "      <td>207040</td>\n",
       "    </tr>\n",
       "    <tr>\n",
       "      <th>2020-04-25</th>\n",
       "      <td>14915</td>\n",
       "      <td>899</td>\n",
       "      <td>7509</td>\n",
       "      <td>217618</td>\n",
       "    </tr>\n",
       "  </tbody>\n",
       "</table>\n",
       "</div>"
      ],
      "text/plain": [
       "            contracted  mortality  recovered  testing\n",
       "date                                                 \n",
       "2020-04-21       12706        697       5806   174170\n",
       "2020-04-22       13418        757       6221   184531\n",
       "2020-04-23       13996        798       6680   194745\n",
       "2020-04-24       14487        851       7087   207040\n",
       "2020-04-25       14915        899       7509   217618"
      ]
     },
     "execution_count": 12,
     "metadata": {},
     "output_type": "execute_result"
    }
   ],
   "source": [
    "dfData.tail()"
   ]
  },
  {
   "cell_type": "code",
   "execution_count": 13,
   "metadata": {},
   "outputs": [],
   "source": [
    "provPop = getPop('Ontario')"
   ]
  },
  {
   "cell_type": "markdown",
   "metadata": {},
   "source": [
    "# Trend Analysis"
   ]
  },
  {
   "cell_type": "markdown",
   "metadata": {},
   "source": [
    "### Contracted"
   ]
  },
  {
   "cell_type": "markdown",
   "metadata": {},
   "source": [
    "From the above critical points we see that there are 3 phases.\n",
    "\n",
    "| Phase | Start Date (index) | End Date (index) |\n",
    "|-------|--------------------|------------------|\n",
    "| 1     | 2020-03-05 (25)    | 2020-03-20 (40)  |\n",
    "| 2     | 2020-03-20 (40)    | 2020-04-04 (55)  |\n",
    "| 3     | 2020-04-04 (55)    | today (:)        |"
   ]
  },
  {
   "cell_type": "code",
   "execution_count": 14,
   "metadata": {},
   "outputs": [],
   "source": [
    "phase = [1,2,3]\n",
    "phaseStart = [25,40,55]\n",
    "phaseEnd = [40,55,len(dfData)]\n",
    "\n",
    "critPhaseCases = []\n",
    "\n",
    "for p,ps,pe in zip(phase,phaseStart,phaseEnd):\n",
    "    dictPhase = {\n",
    "        'phase':p,\n",
    "        'phaseStart':ps,\n",
    "        'phaseEnd':pe}\n",
    "    critPhaseCases.append(dictPhase)"
   ]
  },
  {
   "cell_type": "markdown",
   "metadata": {},
   "source": [
    "### Deaths"
   ]
  },
  {
   "cell_type": "markdown",
   "metadata": {},
   "source": [
    "Similar to the number of cases graph from the above critical points we see that there are 3 phases.\n",
    "\n",
    "| Phase | Start Date (index) | End Date (index) |\n",
    "|-------|--------------------|------------------|\n",
    "| 1     | 2020-03-18 (38)    | 2020-03-28 (48)  |\n",
    "| 2     | 2020-03-28 (48)    | 2020-04-06 (57)  |\n",
    "| 3     | 2020-04-06 (57)    | today (:)        |"
   ]
  },
  {
   "cell_type": "code",
   "execution_count": 15,
   "metadata": {},
   "outputs": [],
   "source": [
    "phaseStart = [38,48,57]\n",
    "phaseEnd = [48,57,len(dfData)]\n",
    "\n",
    "critPhaseDeath = []\n",
    "\n",
    "for p,ps,pe in zip(phase,phaseStart,phaseEnd):\n",
    "    dictPhase = {\n",
    "        'phase':p,\n",
    "        'phaseStart':ps,\n",
    "        'phaseEnd':pe}\n",
    "    critPhaseDeath.append(dictPhase)"
   ]
  },
  {
   "cell_type": "markdown",
   "metadata": {},
   "source": [
    "# Modeling SIRM"
   ]
  },
  {
   "cell_type": "code",
   "execution_count": 16,
   "metadata": {},
   "outputs": [
    {
     "data": {
      "text/plain": [
       "[{'phase': 1, 'phaseStart': 25, 'phaseEnd': 40},\n",
       " {'phase': 2, 'phaseStart': 40, 'phaseEnd': 55},\n",
       " {'phase': 3, 'phaseStart': 55, 'phaseEnd': 77}]"
      ]
     },
     "execution_count": 16,
     "metadata": {},
     "output_type": "execute_result"
    }
   ],
   "source": [
    "critPhaseCases"
   ]
  },
  {
   "cell_type": "code",
   "execution_count": 17,
   "metadata": {},
   "outputs": [
    {
     "data": {
      "text/html": [
       "<div>\n",
       "<style scoped>\n",
       "    .dataframe tbody tr th:only-of-type {\n",
       "        vertical-align: middle;\n",
       "    }\n",
       "\n",
       "    .dataframe tbody tr th {\n",
       "        vertical-align: top;\n",
       "    }\n",
       "\n",
       "    .dataframe thead th {\n",
       "        text-align: right;\n",
       "    }\n",
       "</style>\n",
       "<table border=\"1\" class=\"dataframe\">\n",
       "  <thead>\n",
       "    <tr style=\"text-align: right;\">\n",
       "      <th></th>\n",
       "      <th>contracted</th>\n",
       "      <th>mortality</th>\n",
       "      <th>recovered</th>\n",
       "      <th>testing</th>\n",
       "    </tr>\n",
       "    <tr>\n",
       "      <th>date</th>\n",
       "      <th></th>\n",
       "      <th></th>\n",
       "      <th></th>\n",
       "      <th></th>\n",
       "    </tr>\n",
       "  </thead>\n",
       "  <tbody>\n",
       "    <tr>\n",
       "      <th>2020-04-21</th>\n",
       "      <td>12706</td>\n",
       "      <td>697</td>\n",
       "      <td>5806</td>\n",
       "      <td>174170</td>\n",
       "    </tr>\n",
       "    <tr>\n",
       "      <th>2020-04-22</th>\n",
       "      <td>13418</td>\n",
       "      <td>757</td>\n",
       "      <td>6221</td>\n",
       "      <td>184531</td>\n",
       "    </tr>\n",
       "    <tr>\n",
       "      <th>2020-04-23</th>\n",
       "      <td>13996</td>\n",
       "      <td>798</td>\n",
       "      <td>6680</td>\n",
       "      <td>194745</td>\n",
       "    </tr>\n",
       "    <tr>\n",
       "      <th>2020-04-24</th>\n",
       "      <td>14487</td>\n",
       "      <td>851</td>\n",
       "      <td>7087</td>\n",
       "      <td>207040</td>\n",
       "    </tr>\n",
       "    <tr>\n",
       "      <th>2020-04-25</th>\n",
       "      <td>14915</td>\n",
       "      <td>899</td>\n",
       "      <td>7509</td>\n",
       "      <td>217618</td>\n",
       "    </tr>\n",
       "  </tbody>\n",
       "</table>\n",
       "</div>"
      ],
      "text/plain": [
       "            contracted  mortality  recovered  testing\n",
       "date                                                 \n",
       "2020-04-21       12706        697       5806   174170\n",
       "2020-04-22       13418        757       6221   184531\n",
       "2020-04-23       13996        798       6680   194745\n",
       "2020-04-24       14487        851       7087   207040\n",
       "2020-04-25       14915        899       7509   217618"
      ]
     },
     "execution_count": 17,
     "metadata": {},
     "output_type": "execute_result"
    }
   ],
   "source": [
    "dfData.tail()"
   ]
  },
  {
   "cell_type": "markdown",
   "metadata": {},
   "source": [
    "## Estimation"
   ]
  },
  {
   "cell_type": "markdown",
   "metadata": {},
   "source": [
    "### SIGR Models\n",
    "\n"
   ]
  },
  {
   "cell_type": "code",
   "execution_count": 18,
   "metadata": {},
   "outputs": [
    {
     "name": "stdout",
     "output_type": "stream",
     "text": [
      "Now analyzing phase 1\n",
      "   $beta_i$  $beta_g$     $phi$   $gamma$      $mu$\n",
      "0  0.426528  0.492465  0.322864  0.195723  0.237048\n",
      "Now analyzing phase 2\n",
      "   $beta_i$  $beta_g$     $phi$   $gamma$     $mu$\n",
      "0  0.324649  0.517761  0.171442  0.158204  0.01123\n",
      "Now analyzing phase 3\n",
      "   $beta_i$  $beta_g$     $phi$   $gamma$      $mu$\n",
      "0  0.300023  0.300076  0.199844  0.199978  0.249806\n"
     ]
    }
   ],
   "source": [
    "SIGRMModelPhases = []\n",
    "for i,phase in enumerate(critPhaseCases):\n",
    "    print(f\"Now analyzing phase {phase['phase']}\")\n",
    "    \n",
    "    start = phase['phaseStart']\n",
    "    fin = phase['phaseEnd']\n",
    "    \n",
    "    # get subData\n",
    "    iData = dfData['contracted'].tolist()[start:fin]\n",
    "    df = pd.DataFrame(range(len(iData)),columns=['t'])\n",
    "    df['I'] = iData/provPop\n",
    "    \n",
    "    # get initial conditions   \n",
    "    if i == 0:\n",
    "        initConditions = {'R':0,\n",
    "                      'I':df['I'][0]}\n",
    "    else:\n",
    "        initConditions = {'R':SIGRMModelPhases[i-1].solution['R'][-1],\n",
    "                      'I':df['I'][0]}\n",
    "    \n",
    "    SIGRMModelPhases.append(mySIGRMModel.sigrm(data=df,\n",
    "                    initConditions=initConditions))\n",
    "    \n",
    "    SIGRMModelPhases[i].run()"
   ]
  },
  {
   "cell_type": "markdown",
   "metadata": {},
   "source": [
    "### SDIR Models"
   ]
  },
  {
   "cell_type": "code",
   "execution_count": 19,
   "metadata": {},
   "outputs": [
    {
     "name": "stdout",
     "output_type": "stream",
     "text": [
      "Now analyzing phase 1\n",
      "   $beta_i$     $phi$   $gamma$       $mu\n",
      "0  0.307153  1.599505  0.097625  0.032843\n",
      "Now analyzing phase 2\n",
      "   $beta_i$     $phi$   $gamma$       $mu\n",
      "0  0.346713  1.650326  0.168495  0.002818\n",
      "Now analyzing phase 3\n",
      "   $beta_i$     $phi$   $gamma$       $mu\n",
      "0    0.5662  1.197068  0.198472  0.299187\n"
     ]
    }
   ],
   "source": [
    "SDIRMModelPhases = []\n",
    "for i,phase in enumerate(critPhaseCases):\n",
    "    print(f\"Now analyzing phase {phase['phase']}\")\n",
    "    \n",
    "    start = phase['phaseStart']\n",
    "    fin = phase['phaseEnd']\n",
    "    \n",
    "    # get subData\n",
    "    iData = dfData['contracted'].tolist()[start:fin]\n",
    "    df = pd.DataFrame(range(len(iData)),columns=['t'])\n",
    "    df['I'] = iData/provPop\n",
    "    \n",
    "    # get initial conditions   \n",
    "    if i == 0:\n",
    "        initConditions = {'R':0,\n",
    "                      'I':df['I'][0]}\n",
    "    else:\n",
    "        initConditions = {'R':SDIRMModelPhases[i-1].solution['R'][-1],\n",
    "                      'I':df['I'][0]}\n",
    "    \n",
    "    SDIRMModelPhases.append(mySDIRMModel.sdirm(data=df,\n",
    "                    initConditions=initConditions))\n",
    "    \n",
    "    SDIRMModelPhases[i].run()"
   ]
  },
  {
   "cell_type": "markdown",
   "metadata": {},
   "source": [
    "### SAIR Models"
   ]
  },
  {
   "cell_type": "code",
   "execution_count": 20,
   "metadata": {},
   "outputs": [
    {
     "name": "stdout",
     "output_type": "stream",
     "text": [
      "Now analyzing phase 1\n",
      "   $beta_a$  $beta_i$     $phi$  $gamma$      $mu$\n",
      "0  0.317988  0.661656  0.135479  0.19924  0.252024\n",
      "Now analyzing phase 2\n",
      "   $beta_a$  $beta_i$    $phi$   $gamma$      $mu$\n",
      "0  0.534586  0.514692  0.10005  0.137342  0.216775\n",
      "Now analyzing phase 3\n",
      "   $beta_a$  $beta_i$     $phi$   $gamma$     $mu$\n",
      "0  0.300109  0.300816  0.100223  0.199874  0.02929\n"
     ]
    }
   ],
   "source": [
    "SAIRMModelPhases = []\n",
    "for i,phase in enumerate(critPhaseCases):\n",
    "    print(f\"Now analyzing phase {phase['phase']}\")\n",
    "    \n",
    "    start = phase['phaseStart']\n",
    "    fin = phase['phaseEnd']\n",
    "    \n",
    "    # get subData\n",
    "    iData = dfData['contracted'].tolist()[start:fin]\n",
    "    df = pd.DataFrame(range(len(iData)),columns=['t'])\n",
    "    df['I'] = iData/provPop\n",
    "    \n",
    "    # get initial conditions   \n",
    "    if i == 0:\n",
    "        initConditions = {'R':0,\n",
    "                      'I':df['I'][0]}\n",
    "    else:\n",
    "        initConditions = {'R':SAIRMModelPhases[i-1].solution['R'][-1],\n",
    "                      'I':df['I'][0]}\n",
    "    \n",
    "    SAIRMModelPhases.append(mySAIRMModel.sairm(data=df,\n",
    "                    initConditions=initConditions))\n",
    "    \n",
    "    SAIRMModelPhases[i].run()"
   ]
  },
  {
   "cell_type": "markdown",
   "metadata": {},
   "source": [
    "## Error Comparison"
   ]
  },
  {
   "cell_type": "markdown",
   "metadata": {},
   "source": [
    "Lets concatonate all the models and each of their phases so we can loop through them and create a dataframe to compare the errors"
   ]
  },
  {
   "cell_type": "code",
   "execution_count": 21,
   "metadata": {},
   "outputs": [],
   "source": [
    "allModels = [SIGRMModelPhases,\n",
    "             SDIRMModelPhases,\n",
    "             SAIRMModelPhases]"
   ]
  },
  {
   "cell_type": "code",
   "execution_count": 22,
   "metadata": {},
   "outputs": [
    {
     "data": {
      "text/plain": [
       "'SIGRM'"
      ]
     },
     "execution_count": 22,
     "metadata": {},
     "output_type": "execute_result"
    }
   ],
   "source": [
    "SIGRMModelPhases[1].name"
   ]
  },
  {
   "cell_type": "code",
   "execution_count": 23,
   "metadata": {},
   "outputs": [],
   "source": [
    "modelDict = []\n",
    "for model in allModels:    \n",
    "    for i, phaseModel in enumerate(model):\n",
    "        tempDict={}\n",
    "        tempDict['Name'] = phaseModel.name\n",
    "        tempDict['Phase'] = i+1\n",
    "        tempDict['Error'] = phaseModel.error\n",
    "        \n",
    "        modelDict.append(tempDict)\n",
    "\n",
    "modelDF = pd.DataFrame.from_dict(modelDict)"
   ]
  },
  {
   "cell_type": "code",
   "execution_count": 24,
   "metadata": {},
   "outputs": [
    {
     "data": {
      "text/html": [
       "<div>\n",
       "<style scoped>\n",
       "    .dataframe tbody tr th:only-of-type {\n",
       "        vertical-align: middle;\n",
       "    }\n",
       "\n",
       "    .dataframe tbody tr th {\n",
       "        vertical-align: top;\n",
       "    }\n",
       "\n",
       "    .dataframe thead th {\n",
       "        text-align: right;\n",
       "    }\n",
       "</style>\n",
       "<table border=\"1\" class=\"dataframe\">\n",
       "  <thead>\n",
       "    <tr style=\"text-align: right;\">\n",
       "      <th></th>\n",
       "      <th>Name</th>\n",
       "      <th>Phase</th>\n",
       "      <th>Error</th>\n",
       "    </tr>\n",
       "  </thead>\n",
       "  <tbody>\n",
       "    <tr>\n",
       "      <th>0</th>\n",
       "      <td>SIGRM</td>\n",
       "      <td>1</td>\n",
       "      <td>5.976535e-13</td>\n",
       "    </tr>\n",
       "    <tr>\n",
       "      <th>6</th>\n",
       "      <td>SAIRM</td>\n",
       "      <td>1</td>\n",
       "      <td>6.148859e-13</td>\n",
       "    </tr>\n",
       "    <tr>\n",
       "      <th>3</th>\n",
       "      <td>SDIRM</td>\n",
       "      <td>1</td>\n",
       "      <td>6.919072e-13</td>\n",
       "    </tr>\n",
       "  </tbody>\n",
       "</table>\n",
       "</div>"
      ],
      "text/plain": [
       "    Name  Phase         Error\n",
       "0  SIGRM      1  5.976535e-13\n",
       "6  SAIRM      1  6.148859e-13\n",
       "3  SDIRM      1  6.919072e-13"
      ]
     },
     "execution_count": 24,
     "metadata": {},
     "output_type": "execute_result"
    }
   ],
   "source": [
    "phaseOne = modelDF[modelDF[\"Phase\"]==1]\n",
    "phaseOne.sort_values('Error',ascending=True)"
   ]
  },
  {
   "cell_type": "code",
   "execution_count": 25,
   "metadata": {},
   "outputs": [
    {
     "data": {
      "text/html": [
       "<div>\n",
       "<style scoped>\n",
       "    .dataframe tbody tr th:only-of-type {\n",
       "        vertical-align: middle;\n",
       "    }\n",
       "\n",
       "    .dataframe tbody tr th {\n",
       "        vertical-align: top;\n",
       "    }\n",
       "\n",
       "    .dataframe thead th {\n",
       "        text-align: right;\n",
       "    }\n",
       "</style>\n",
       "<table border=\"1\" class=\"dataframe\">\n",
       "  <thead>\n",
       "    <tr style=\"text-align: right;\">\n",
       "      <th></th>\n",
       "      <th>Name</th>\n",
       "      <th>Phase</th>\n",
       "      <th>Error</th>\n",
       "    </tr>\n",
       "  </thead>\n",
       "  <tbody>\n",
       "    <tr>\n",
       "      <th>7</th>\n",
       "      <td>SAIRM</td>\n",
       "      <td>2</td>\n",
       "      <td>4.828304e-11</td>\n",
       "    </tr>\n",
       "    <tr>\n",
       "      <th>1</th>\n",
       "      <td>SIGRM</td>\n",
       "      <td>2</td>\n",
       "      <td>4.833715e-11</td>\n",
       "    </tr>\n",
       "    <tr>\n",
       "      <th>4</th>\n",
       "      <td>SDIRM</td>\n",
       "      <td>2</td>\n",
       "      <td>7.596198e-11</td>\n",
       "    </tr>\n",
       "  </tbody>\n",
       "</table>\n",
       "</div>"
      ],
      "text/plain": [
       "    Name  Phase         Error\n",
       "7  SAIRM      2  4.828304e-11\n",
       "1  SIGRM      2  4.833715e-11\n",
       "4  SDIRM      2  7.596198e-11"
      ]
     },
     "execution_count": 25,
     "metadata": {},
     "output_type": "execute_result"
    }
   ],
   "source": [
    "phaseTwo = modelDF[modelDF[\"Phase\"]==2]\n",
    "phaseTwo.sort_values('Error',ascending=True)"
   ]
  },
  {
   "cell_type": "code",
   "execution_count": 26,
   "metadata": {},
   "outputs": [
    {
     "data": {
      "text/html": [
       "<div>\n",
       "<style scoped>\n",
       "    .dataframe tbody tr th:only-of-type {\n",
       "        vertical-align: middle;\n",
       "    }\n",
       "\n",
       "    .dataframe tbody tr th {\n",
       "        vertical-align: top;\n",
       "    }\n",
       "\n",
       "    .dataframe thead th {\n",
       "        text-align: right;\n",
       "    }\n",
       "</style>\n",
       "<table border=\"1\" class=\"dataframe\">\n",
       "  <thead>\n",
       "    <tr style=\"text-align: right;\">\n",
       "      <th></th>\n",
       "      <th>Name</th>\n",
       "      <th>Phase</th>\n",
       "      <th>Error</th>\n",
       "    </tr>\n",
       "  </thead>\n",
       "  <tbody>\n",
       "    <tr>\n",
       "      <th>5</th>\n",
       "      <td>SDIRM</td>\n",
       "      <td>3</td>\n",
       "      <td>2.185322e-09</td>\n",
       "    </tr>\n",
       "    <tr>\n",
       "      <th>2</th>\n",
       "      <td>SIGRM</td>\n",
       "      <td>3</td>\n",
       "      <td>3.626393e-09</td>\n",
       "    </tr>\n",
       "    <tr>\n",
       "      <th>8</th>\n",
       "      <td>SAIRM</td>\n",
       "      <td>3</td>\n",
       "      <td>4.535484e-09</td>\n",
       "    </tr>\n",
       "  </tbody>\n",
       "</table>\n",
       "</div>"
      ],
      "text/plain": [
       "    Name  Phase         Error\n",
       "5  SDIRM      3  2.185322e-09\n",
       "2  SIGRM      3  3.626393e-09\n",
       "8  SAIRM      3  4.535484e-09"
      ]
     },
     "execution_count": 26,
     "metadata": {},
     "output_type": "execute_result"
    }
   ],
   "source": [
    "phaseThree = modelDF[modelDF[\"Phase\"]==3]\n",
    "phaseThree.sort_values('Error',ascending=True)"
   ]
  },
  {
   "cell_type": "markdown",
   "metadata": {},
   "source": [
    "They are really close to each other interms of error so lets looks at the graph distributions instead"
   ]
  },
  {
   "cell_type": "markdown",
   "metadata": {},
   "source": [
    "## Graphing"
   ]
  },
  {
   "cell_type": "code",
   "execution_count": 27,
   "metadata": {},
   "outputs": [
    {
     "data": {
      "image/png": "[encoded data removed]",
      "text/plain": [
       "<Figure size 1008x576 with 3 Axes>"
      ]
     },
     "metadata": {
      "needs_background": "light"
     },
     "output_type": "display_data"
    }
   ],
   "source": [
    "fig1,ax=plt.subplots(1,3,figsize=(14,8))\n",
    "\n",
    "for i in range(3):\n",
    "    for model in allModels:\n",
    "        yHat = model[i].solution['I']*provPop\n",
    "        ax[i].plot(range(len(yHat)),yHat,'-o',label=model[i].name)\n",
    "    \n",
    "    y = allModels[0][i].data['I']*provPop\n",
    "    ax[i].plot(range(len(y)),y,'-x',color='r',label='y')\n",
    "    ax[i].set_title(f\"Phase {i+1} \")\n",
    "    ax[i].set_xlabel('Time (days)')\n",
    "    ax[i].set_ylabel('Proportion')\n",
    "    ax[i].legend()"
   ]
  },
  {
   "cell_type": "markdown",
   "metadata": {},
   "source": [
    "Based on the above phase models all seem to be very good at estimating the first two phases while the last phase  is very difficult.  I am not to sure why this is the case but there seems to be a couple that are relatively good at estimating all three.  Based on these trends we can say that maybe the best model estimation are:\n",
    "\n",
    "- SDIRM\n",
    "- SAIR\n",
    "- SIGR"
   ]
  },
  {
   "cell_type": "markdown",
   "metadata": {},
   "source": [
    "**Note:** Any estimation for all these models will surely over-estimate the true values but we do get a sense that these models seem to be telling the story of what is happening."
   ]
  },
  {
   "cell_type": "markdown",
   "metadata": {},
   "source": [
    "Lets plot the 3 best model estimations on the entire curve"
   ]
  },
  {
   "cell_type": "code",
   "execution_count": 28,
   "metadata": {},
   "outputs": [
    {
     "data": {
      "text/plain": [
       "<matplotlib.legend.Legend at 0x11422e48>"
      ]
     },
     "execution_count": 28,
     "metadata": {},
     "output_type": "execute_result"
    },
    {
     "data": {
      "image/png": "[encoded data removed]",
      "text/plain": [
       "<Figure size 1008x576 with 1 Axes>"
      ]
     },
     "metadata": {
      "needs_background": "light"
     },
     "output_type": "display_data"
    }
   ],
   "source": [
    "fig1,ax=plt.subplots(1,1,figsize=(14,8))\n",
    "\n",
    "for model in allModels:\n",
    "    yHat = []\n",
    "    y = []\n",
    "    for i in range(3):\n",
    "        yHat.append(model[i].solution['I'])\n",
    "        y.append(model[i].data['I'])\n",
    "\n",
    "    yHat = np.concatenate(yHat)\n",
    "    ax.plot(range(len(yHat)),yHat*provPop,'-o',label=model[0].name)\n",
    "    y = np.concatenate(y)\n",
    "   \n",
    "ax.plot(range(len(y)),y*provPop,'-x',color='r',label='y')    \n",
    "ax.set_title(f\"Entire Duration \")\n",
    "ax.set_xlabel('Time (days)')\n",
    "ax.set_ylabel('Proportion')\n",
    "ax.legend()\n",
    "    "
   ]
  },
  {
   "cell_type": "markdown",
   "metadata": {},
   "source": [
    "They are all pretty much over predicting by an alarmingly large number.  I don't trust this model rightnow so lets look at the logistic regressin analysis again and see what is going on there before continuing.  Maybe we can make these into fuctions as well so that we can run experiments and see a variety of scenarios.  I think after that, it will be my final contribution because it may take up more time than expected learning more algorithms and trying to play with them."
   ]
  },
  {
   "cell_type": "code",
   "execution_count": null,
   "metadata": {},
   "outputs": [],
   "source": []
  }
 ],
 "metadata": {
  "kernelspec": {
   "display_name": "mlPlaygroundPy36",
   "language": "python",
   "name": "mlplaygroundpy36"
  },
  "language_info": {
   "codemirror_mode": {
    "name": "ipython",
    "version": 3
   },
   "file_extension": ".py",
   "mimetype": "text/x-python",
   "name": "python",
   "nbconvert_exporter": "python",
   "pygments_lexer": "ipython3",
   "version": "3.6.6"
  }
 },
 "nbformat": 4,
 "nbformat_minor": 4
}
