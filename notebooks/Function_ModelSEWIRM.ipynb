{
 "cells": [
  {
   "cell_type": "markdown",
   "metadata": {},
   "source": [
    "[Prophet Toolbox Documentation](https://facebook.github.io/prophet/docs/saturating_forecasts.html)"
   ]
  },
  {
   "cell_type": "markdown",
   "metadata": {},
   "source": [
    "# Import"
   ]
  },
  {
   "cell_type": "markdown",
   "metadata": {},
   "source": [
    "## Path"
   ]
  },
  {
   "cell_type": "code",
   "execution_count": 1,
   "metadata": {},
   "outputs": [
    {
     "name": "stdout",
     "output_type": "stream",
     "text": [
      "Adding C:\\Cerebral\\_MarioSandBox\\Python\\projectPage_myOntarioCovidModelTrendAnalysis\\git_projectCodes\\myOntarioCovidModelTrendAnalysis path to system\n"
     ]
    }
   ],
   "source": [
    "import os\n",
    "import sys\n",
    "\n",
    "p = os.path.abspath('../')\n",
    "if p not in sys.path:\n",
    "    print('Adding {} path to system'.format(p))\n",
    "    sys.path.append(p)\n",
    "    \n"
   ]
  },
  {
   "cell_type": "markdown",
   "metadata": {},
   "source": [
    "The [Epidemiological Data from the COVID-19 Outbreak in Canada](https://github.com/ishaberry/Covid19Canada) located in github.\n",
    "\n"
   ]
  },
  {
   "cell_type": "code",
   "execution_count": 2,
   "metadata": {},
   "outputs": [],
   "source": [
    "import plotly# Complete Database\n",
    "from plotly import __version__\n",
    "from plotly.offline import download_plotlyjs, init_notebook_mode, plot, iplot"
   ]
  },
  {
   "cell_type": "markdown",
   "metadata": {},
   "source": [
    "## Modules"
   ]
  },
  {
   "cell_type": "code",
   "execution_count": 3,
   "metadata": {},
   "outputs": [],
   "source": [
    "from myFunctions.covid import covid as cvd\n",
    "import myFunctions.myVis as myVis\n",
    "import myFunctions.mySEWIRM as mySIWIRMModel\n",
    "import myFunctions.mySDIR as mySDIRModel"
   ]
  },
  {
   "cell_type": "code",
   "execution_count": 4,
   "metadata": {},
   "outputs": [],
   "source": [
    "import pandas as pd\n",
    "import numpy as np"
   ]
  },
  {
   "cell_type": "code",
   "execution_count": 5,
   "metadata": {},
   "outputs": [],
   "source": [
    "from utilities.EpiModel import *\n",
    "import utilities.PDEparams as pde\n",
    "from scipy.integrate import odeint"
   ]
  },
  {
   "cell_type": "code",
   "execution_count": 6,
   "metadata": {},
   "outputs": [],
   "source": [
    "from scipy.integrate import solve_ivp\n",
    "import optuna\n",
    "optuna.logging.disable_default_handler()\n",
    "import matplotlib.pyplot as plt\n",
    "from matplotlib.ticker import ScalarFormatter\n",
    "from datetime import timedelta"
   ]
  },
  {
   "cell_type": "markdown",
   "metadata": {},
   "source": [
    "# Modeling Functions"
   ]
  },
  {
   "cell_type": "code",
   "execution_count": 7,
   "metadata": {},
   "outputs": [],
   "source": [
    "def getPop(province='Ontario',p='C:\\Cerebral\\_MarioSandBox\\Python\\projectPage_myOntarioCovidModelTrendAnalysis\\git_projectCodes\\myOntarioCovidModelTrendAnalysis'):\n",
    "    provinceDataPopFile = '\\data\\provincePop.csv'\n",
    "    popData = pd.read_csv(p + provinceDataPopFile)\n",
    "    popData = popData.set_index('province')    \n",
    "    return popData.loc[province].population"
   ]
  },
  {
   "cell_type": "markdown",
   "metadata": {},
   "source": [
    "# Get Data"
   ]
  },
  {
   "cell_type": "code",
   "execution_count": 8,
   "metadata": {},
   "outputs": [
    {
     "name": "stdout",
     "output_type": "stream",
     "text": [
      "Getting COVID data\n",
      "cached\n"
     ]
    }
   ],
   "source": [
    "covidObject = cvd(cached=True)"
   ]
  },
  {
   "cell_type": "code",
   "execution_count": 9,
   "metadata": {},
   "outputs": [],
   "source": [
    "provToAnalyze = 'Ontario'\n",
    "covidObject.getProcessedData(provToAnalyze)"
   ]
  },
  {
   "cell_type": "code",
   "execution_count": 10,
   "metadata": {},
   "outputs": [],
   "source": [
    "# convert dictionary into dataframe\n",
    "dfData = pd.DataFrame.from_dict(covidObject.dataProcess)\n",
    "# convert date col to datetime pandas series\n",
    "dfData['date'] = pd.to_datetime(dfData['date'])\n",
    "# convert index to dates\n",
    "dfData = dfData.set_index('date')"
   ]
  },
  {
   "cell_type": "code",
   "execution_count": 11,
   "metadata": {},
   "outputs": [
    {
     "data": {
      "text/html": [
       "<div>\n",
       "<style scoped>\n",
       "    .dataframe tbody tr th:only-of-type {\n",
       "        vertical-align: middle;\n",
       "    }\n",
       "\n",
       "    .dataframe tbody tr th {\n",
       "        vertical-align: top;\n",
       "    }\n",
       "\n",
       "    .dataframe thead th {\n",
       "        text-align: right;\n",
       "    }\n",
       "</style>\n",
       "<table border=\"1\" class=\"dataframe\">\n",
       "  <thead>\n",
       "    <tr style=\"text-align: right;\">\n",
       "      <th></th>\n",
       "      <th>contracted</th>\n",
       "      <th>mortality</th>\n",
       "      <th>recovered</th>\n",
       "      <th>testing</th>\n",
       "    </tr>\n",
       "    <tr>\n",
       "      <th>date</th>\n",
       "      <th></th>\n",
       "      <th></th>\n",
       "      <th></th>\n",
       "      <th></th>\n",
       "    </tr>\n",
       "  </thead>\n",
       "  <tbody>\n",
       "    <tr>\n",
       "      <th>2020-04-21</th>\n",
       "      <td>12706</td>\n",
       "      <td>697</td>\n",
       "      <td>5806</td>\n",
       "      <td>174170</td>\n",
       "    </tr>\n",
       "    <tr>\n",
       "      <th>2020-04-22</th>\n",
       "      <td>13418</td>\n",
       "      <td>757</td>\n",
       "      <td>6221</td>\n",
       "      <td>184531</td>\n",
       "    </tr>\n",
       "    <tr>\n",
       "      <th>2020-04-23</th>\n",
       "      <td>13996</td>\n",
       "      <td>798</td>\n",
       "      <td>6680</td>\n",
       "      <td>194745</td>\n",
       "    </tr>\n",
       "    <tr>\n",
       "      <th>2020-04-24</th>\n",
       "      <td>14487</td>\n",
       "      <td>851</td>\n",
       "      <td>7087</td>\n",
       "      <td>207040</td>\n",
       "    </tr>\n",
       "    <tr>\n",
       "      <th>2020-04-25</th>\n",
       "      <td>14915</td>\n",
       "      <td>899</td>\n",
       "      <td>7509</td>\n",
       "      <td>217618</td>\n",
       "    </tr>\n",
       "  </tbody>\n",
       "</table>\n",
       "</div>"
      ],
      "text/plain": [
       "            contracted  mortality  recovered  testing\n",
       "date                                                 \n",
       "2020-04-21       12706        697       5806   174170\n",
       "2020-04-22       13418        757       6221   184531\n",
       "2020-04-23       13996        798       6680   194745\n",
       "2020-04-24       14487        851       7087   207040\n",
       "2020-04-25       14915        899       7509   217618"
      ]
     },
     "execution_count": 11,
     "metadata": {},
     "output_type": "execute_result"
    }
   ],
   "source": [
    "dfData.tail()"
   ]
  },
  {
   "cell_type": "code",
   "execution_count": 12,
   "metadata": {},
   "outputs": [],
   "source": [
    "provPop = getPop('Ontario')"
   ]
  },
  {
   "cell_type": "markdown",
   "metadata": {},
   "source": [
    "# Trend Analysis"
   ]
  },
  {
   "cell_type": "markdown",
   "metadata": {},
   "source": [
    "### Contracted"
   ]
  },
  {
   "cell_type": "markdown",
   "metadata": {},
   "source": [
    "From the above critical points we see that there are 3 phases.\n",
    "\n",
    "| Phase | Start Date (index) | End Date (index) |\n",
    "|-------|--------------------|------------------|\n",
    "| 1     | 2020-03-05 (25)    | 2020-03-20 (40)  |\n",
    "| 2     | 2020-03-20 (40)    | 2020-04-04 (55)  |\n",
    "| 3     | 2020-04-04 (55)    | today (:)        |"
   ]
  },
  {
   "cell_type": "code",
   "execution_count": 13,
   "metadata": {},
   "outputs": [],
   "source": [
    "phase = [1,2,3]\n",
    "phaseStart = [25,40,55]\n",
    "phaseEnd = [40,55,len(dfData)]\n",
    "\n",
    "critPhaseCases = []\n",
    "\n",
    "for p,ps,pe in zip(phase,phaseStart,phaseEnd):\n",
    "    dictPhase = {\n",
    "        'phase':p,\n",
    "        'phaseStart':ps,\n",
    "        'phaseEnd':pe}\n",
    "    critPhaseCases.append(dictPhase)"
   ]
  },
  {
   "cell_type": "markdown",
   "metadata": {},
   "source": [
    "# Modeling SIRM"
   ]
  },
  {
   "cell_type": "code",
   "execution_count": 14,
   "metadata": {},
   "outputs": [
    {
     "data": {
      "text/plain": [
       "[{'phase': 1, 'phaseStart': 25, 'phaseEnd': 40},\n",
       " {'phase': 2, 'phaseStart': 40, 'phaseEnd': 55},\n",
       " {'phase': 3, 'phaseStart': 55, 'phaseEnd': 77}]"
      ]
     },
     "execution_count": 14,
     "metadata": {},
     "output_type": "execute_result"
    }
   ],
   "source": [
    "critPhaseCases"
   ]
  },
  {
   "cell_type": "code",
   "execution_count": 15,
   "metadata": {},
   "outputs": [
    {
     "data": {
      "text/html": [
       "<div>\n",
       "<style scoped>\n",
       "    .dataframe tbody tr th:only-of-type {\n",
       "        vertical-align: middle;\n",
       "    }\n",
       "\n",
       "    .dataframe tbody tr th {\n",
       "        vertical-align: top;\n",
       "    }\n",
       "\n",
       "    .dataframe thead th {\n",
       "        text-align: right;\n",
       "    }\n",
       "</style>\n",
       "<table border=\"1\" class=\"dataframe\">\n",
       "  <thead>\n",
       "    <tr style=\"text-align: right;\">\n",
       "      <th></th>\n",
       "      <th>contracted</th>\n",
       "      <th>mortality</th>\n",
       "      <th>recovered</th>\n",
       "      <th>testing</th>\n",
       "    </tr>\n",
       "    <tr>\n",
       "      <th>date</th>\n",
       "      <th></th>\n",
       "      <th></th>\n",
       "      <th></th>\n",
       "      <th></th>\n",
       "    </tr>\n",
       "  </thead>\n",
       "  <tbody>\n",
       "    <tr>\n",
       "      <th>2020-04-21</th>\n",
       "      <td>12706</td>\n",
       "      <td>697</td>\n",
       "      <td>5806</td>\n",
       "      <td>174170</td>\n",
       "    </tr>\n",
       "    <tr>\n",
       "      <th>2020-04-22</th>\n",
       "      <td>13418</td>\n",
       "      <td>757</td>\n",
       "      <td>6221</td>\n",
       "      <td>184531</td>\n",
       "    </tr>\n",
       "    <tr>\n",
       "      <th>2020-04-23</th>\n",
       "      <td>13996</td>\n",
       "      <td>798</td>\n",
       "      <td>6680</td>\n",
       "      <td>194745</td>\n",
       "    </tr>\n",
       "    <tr>\n",
       "      <th>2020-04-24</th>\n",
       "      <td>14487</td>\n",
       "      <td>851</td>\n",
       "      <td>7087</td>\n",
       "      <td>207040</td>\n",
       "    </tr>\n",
       "    <tr>\n",
       "      <th>2020-04-25</th>\n",
       "      <td>14915</td>\n",
       "      <td>899</td>\n",
       "      <td>7509</td>\n",
       "      <td>217618</td>\n",
       "    </tr>\n",
       "  </tbody>\n",
       "</table>\n",
       "</div>"
      ],
      "text/plain": [
       "            contracted  mortality  recovered  testing\n",
       "date                                                 \n",
       "2020-04-21       12706        697       5806   174170\n",
       "2020-04-22       13418        757       6221   184531\n",
       "2020-04-23       13996        798       6680   194745\n",
       "2020-04-24       14487        851       7087   207040\n",
       "2020-04-25       14915        899       7509   217618"
      ]
     },
     "execution_count": 15,
     "metadata": {},
     "output_type": "execute_result"
    }
   ],
   "source": [
    "dfData.tail()"
   ]
  },
  {
   "cell_type": "markdown",
   "metadata": {},
   "source": [
    "## Estimation"
   ]
  },
  {
   "cell_type": "code",
   "execution_count": 16,
   "metadata": {},
   "outputs": [
    {
     "name": "stdout",
     "output_type": "stream",
     "text": [
      "Now analyzing phase 1\n",
      "    $beta1$   $beta2$   $beta3$  $alpha1$   $gamma$  $alpha2$\n",
      "0  0.301482  1.996154  0.135138   0.19949  0.016301  0.101265\n",
      "Now analyzing phase 2\n",
      "    $beta1$   $beta2$   $beta3$  $alpha1$   $gamma$  $alpha2$\n",
      "0  0.305952  1.986575  0.134789  0.199762  0.023586  0.108991\n",
      "Now analyzing phase 3\n",
      "   $beta1$   $beta2$   $beta3$  $alpha1$   $gamma$  $alpha2$\n",
      "0      0.3  1.999882  0.364882       0.2  0.188492  0.107222\n"
     ]
    },
    {
     "data": {
      "image/png": "[encoded data removed]",
      "text/plain": [
       "<Figure size 1008x576 with 3 Axes>"
      ]
     },
     "metadata": {
      "needs_background": "light"
     },
     "output_type": "display_data"
    }
   ],
   "source": [
    "modelPhases = []\n",
    "fig1,ax=plt.subplots(1,3,figsize=(14,8))\n",
    "for i,phase in enumerate(critPhaseCases):\n",
    "    print(f\"Now analyzing phase {phase['phase']}\")\n",
    "    \n",
    "    start = phase['phaseStart']\n",
    "    fin = phase['phaseEnd']\n",
    "    \n",
    "    # get subData\n",
    "    iData = dfData['contracted'].tolist()[start:fin]\n",
    "    df = pd.DataFrame(range(len(iData)),columns=['t'])\n",
    "    df['I'] = iData/provPop\n",
    "    \n",
    "    # get initial conditions   \n",
    "    if i == 0:\n",
    "        initConditions = {'R':0,\n",
    "                      'I':df['I'][0]}\n",
    "    else:\n",
    "        initConditions = {'R':modelPhases[i-1].solution['R'][-1],\n",
    "                      'I':df['I'][0]}\n",
    "    \n",
    "    modelPhases.append(mySIWIRMModel.sewirm(data=df,\n",
    "                    initConditions=initConditions))\n",
    "    \n",
    "    modelPhases[i].run()\n",
    "    \n",
    "    # Plotting ----------------------\n",
    "    ax[phase['phase']-1] = modelPhases[i].plot(ax[phase['phase']-1])\n",
    "    ax[phase['phase']-1].set_title(f\"Phase {i+1}\") "
   ]
  },
  {
   "cell_type": "code",
   "execution_count": null,
   "metadata": {},
   "outputs": [],
   "source": []
  }
 ],
 "metadata": {
  "kernelspec": {
   "display_name": "mlPlaygroundPy36",
   "language": "python",
   "name": "mlplaygroundpy36"
  },
  "language_info": {
   "codemirror_mode": {
    "name": "ipython",
    "version": 3
   },
   "file_extension": ".py",
   "mimetype": "text/x-python",
   "name": "python",
   "nbconvert_exporter": "python",
   "pygments_lexer": "ipython3",
   "version": "3.6.6"
  }
 },
 "nbformat": 4,
 "nbformat_minor": 4
}
